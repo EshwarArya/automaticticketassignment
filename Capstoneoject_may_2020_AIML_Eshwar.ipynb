{
  "nbformat": 4,
  "nbformat_minor": 0,
  "metadata": {
    "kernelspec": {
      "display_name": "Python 3",
      "language": "python",
      "name": "python3"
    },
    "language_info": {
      "codemirror_mode": {
        "name": "ipython",
        "version": 3
      },
      "file_extension": ".py",
      "mimetype": "text/x-python",
      "name": "python",
      "nbconvert_exporter": "python",
      "pygments_lexer": "ipython3",
      "version": "3.7.3"
    },
    "colab": {
      "name": "Capstoneoject_may_2020_AIML.ipynb",
      "provenance": [],
      "collapsed_sections": [],
      "include_colab_link": true
    },
    "accelerator": "TPU"
  },
  "cells": [
    {
      "cell_type": "markdown",
      "metadata": {
        "id": "view-in-github",
        "colab_type": "text"
      },
      "source": [
        "<a href=\"https://colab.research.google.com/github/EshwarArya/automaticticketassignment/blob/master/Capstoneoject_may_2020_AIML_Eshwar.ipynb\" target=\"_parent\"><img src=\"https://colab.research.google.com/assets/colab-badge.svg\" alt=\"Open In Colab\"/></a>"
      ]
    },
    {
      "cell_type": "code",
      "metadata": {
        "id": "FogXxOf_lZKx",
        "colab_type": "code",
        "colab": {}
      },
      "source": [
        "!!pip uninstall tensorflow\n",
        "!pip install tensorflow==2.0.0"
      ],
      "execution_count": 0,
      "outputs": []
    },
    {
      "cell_type": "code",
      "metadata": {
        "id": "0d0FtzVdMqKg",
        "colab_type": "code",
        "colab": {
          "base_uri": "https://localhost:8080/",
          "height": 204
        },
        "outputId": "628a915f-3f13-4ad1-8b12-755044630206"
      },
      "source": [
        "#importing necessary libraries\n",
        "import pandas as pd\n",
        "import numpy as np\n",
        "import seaborn as sns\n",
        "import matplotlib.pyplot as plt\n",
        "import warnings\n",
        "warnings.filterwarnings(\"ignore\")\n",
        "plt.style.use('fivethirtyeight')\n",
        "\n",
        "import time\n",
        "import string\n",
        "\n",
        "from tqdm import tqdm\n",
        "from wordcloud import WordCloud, STOPWORDS\n",
        "\n",
        "import re\n",
        "import nltk\n",
        "import pickle\n",
        "from nltk.tokenize import WordPunctTokenizer,word_tokenize,RegexpTokenizer\n",
        "from nltk.corpus import stopwords\n",
        "\n",
        "#nltk.download('all')\n",
        "nltk.download('wordnet')\n",
        "nltk.download('stopwords')\n",
        "nltk.download('punkt')\n",
        "nltk.download('averaged_perceptron_tagger')\n",
        "\n",
        "from nltk.stem.wordnet import WordNetLemmatizer\n",
        "#Importing Sklearn function for splitting dataset for training and testing\n",
        "from sklearn.model_selection  import train_test_split\n",
        "from sklearn import preprocessing\n",
        "from sklearn.preprocessing import LabelEncoder\n",
        "from tensorflow.keras.preprocessing.text import Tokenizer\n",
        "from tensorflow.keras.preprocessing.sequence import pad_sequences\n",
        "from sklearn.preprocessing import OneHotEncoder\n",
        "from sklearn.manifold import TSNE\n",
        "from sklearn.feature_extraction.text import CountVectorizer, TfidfVectorizer\n",
        "\n",
        "import tensorflow as tf\n",
        "import sklearn.metrics as metrics\n",
        "from sklearn.metrics import accuracy_score, classification_report, confusion_matrix"
      ],
      "execution_count": 2,
      "outputs": [
        {
          "output_type": "stream",
          "text": [
            "/usr/local/lib/python3.6/dist-packages/statsmodels/tools/_testing.py:19: FutureWarning: pandas.util.testing is deprecated. Use the functions in the public API at pandas.testing instead.\n",
            "  import pandas.util.testing as tm\n"
          ],
          "name": "stderr"
        },
        {
          "output_type": "stream",
          "text": [
            "[nltk_data] Downloading package wordnet to /root/nltk_data...\n",
            "[nltk_data]   Unzipping corpora/wordnet.zip.\n",
            "[nltk_data] Downloading package stopwords to /root/nltk_data...\n",
            "[nltk_data]   Unzipping corpora/stopwords.zip.\n",
            "[nltk_data] Downloading package punkt to /root/nltk_data...\n",
            "[nltk_data]   Unzipping tokenizers/punkt.zip.\n",
            "[nltk_data] Downloading package averaged_perceptron_tagger to\n",
            "[nltk_data]     /root/nltk_data...\n",
            "[nltk_data]   Unzipping taggers/averaged_perceptron_tagger.zip.\n"
          ],
          "name": "stdout"
        }
      ]
    },
    {
      "cell_type": "markdown",
      "metadata": {
        "id": "iIqAiGU7MqKj",
        "colab_type": "text"
      },
      "source": [
        "**Loading the Dataset**"
      ]
    },
    {
      "cell_type": "code",
      "metadata": {
        "id": "WBhGKPO33gb0",
        "colab_type": "code",
        "colab": {
          "base_uri": "https://localhost:8080/",
          "height": 122
        },
        "outputId": "a1dcb218-de7b-4136-d05a-9955e22bfbcb"
      },
      "source": [
        "from google.colab import drive\n",
        "drive.mount('/content/drive')"
      ],
      "execution_count": 3,
      "outputs": [
        {
          "output_type": "stream",
          "text": [
            "Go to this URL in a browser: https://accounts.google.com/o/oauth2/auth?client_id=947318989803-6bn6qk8qdgf4n4g3pfee6491hc0brc4i.apps.googleusercontent.com&redirect_uri=urn%3aietf%3awg%3aoauth%3a2.0%3aoob&response_type=code&scope=email%20https%3a%2f%2fwww.googleapis.com%2fauth%2fdocs.test%20https%3a%2f%2fwww.googleapis.com%2fauth%2fdrive%20https%3a%2f%2fwww.googleapis.com%2fauth%2fdrive.photos.readonly%20https%3a%2f%2fwww.googleapis.com%2fauth%2fpeopleapi.readonly\n",
            "\n",
            "Enter your authorization code:\n",
            "··········\n",
            "Mounted at /content/drive\n"
          ],
          "name": "stdout"
        }
      ]
    },
    {
      "cell_type": "code",
      "metadata": {
        "id": "WDhVnx6KMqKj",
        "colab_type": "code",
        "colab": {}
      },
      "source": [
        "#Loading the dataset\n",
        "df = pd.read_excel(\"/content/drive/My Drive/Input Data Synthetic.xlsx\")"
      ],
      "execution_count": 0,
      "outputs": []
    },
    {
      "cell_type": "code",
      "metadata": {
        "id": "tdc3v_BpMqKm",
        "colab_type": "code",
        "colab": {
          "base_uri": "https://localhost:8080/",
          "height": 204
        },
        "outputId": "d2497a0c-296f-4cdb-afdc-d5341f79d15e"
      },
      "source": [
        "#Have a look at first five rows in dataset\n",
        "df.head()"
      ],
      "execution_count": 93,
      "outputs": [
        {
          "output_type": "execute_result",
          "data": {
            "text/html": [
              "<div>\n",
              "<style scoped>\n",
              "    .dataframe tbody tr th:only-of-type {\n",
              "        vertical-align: middle;\n",
              "    }\n",
              "\n",
              "    .dataframe tbody tr th {\n",
              "        vertical-align: top;\n",
              "    }\n",
              "\n",
              "    .dataframe thead th {\n",
              "        text-align: right;\n",
              "    }\n",
              "</style>\n",
              "<table border=\"1\" class=\"dataframe\">\n",
              "  <thead>\n",
              "    <tr style=\"text-align: right;\">\n",
              "      <th></th>\n",
              "      <th>Short description</th>\n",
              "      <th>Description</th>\n",
              "      <th>Caller</th>\n",
              "      <th>Assignment group</th>\n",
              "    </tr>\n",
              "  </thead>\n",
              "  <tbody>\n",
              "    <tr>\n",
              "      <th>0</th>\n",
              "      <td>login issue</td>\n",
              "      <td>-verified user details.(employee# &amp; manager na...</td>\n",
              "      <td>spxjnwir pjlcoqds</td>\n",
              "      <td>GRP_0</td>\n",
              "    </tr>\n",
              "    <tr>\n",
              "      <th>1</th>\n",
              "      <td>outlook</td>\n",
              "      <td>\\r\\n\\r\\nreceived from: hmjdrvpb.komuaywn@gmail...</td>\n",
              "      <td>hmjdrvpb komuaywn</td>\n",
              "      <td>GRP_0</td>\n",
              "    </tr>\n",
              "    <tr>\n",
              "      <th>2</th>\n",
              "      <td>cant log in to vpn</td>\n",
              "      <td>\\r\\n\\r\\nreceived from: eylqgodm.ybqkwiam@gmail...</td>\n",
              "      <td>eylqgodm ybqkwiam</td>\n",
              "      <td>GRP_0</td>\n",
              "    </tr>\n",
              "    <tr>\n",
              "      <th>3</th>\n",
              "      <td>unable to access hr_tool page</td>\n",
              "      <td>unable to access hr_tool page</td>\n",
              "      <td>xbkucsvz gcpydteq</td>\n",
              "      <td>GRP_0</td>\n",
              "    </tr>\n",
              "    <tr>\n",
              "      <th>4</th>\n",
              "      <td>skype error</td>\n",
              "      <td>skype error</td>\n",
              "      <td>owlgqjme qhcozdfx</td>\n",
              "      <td>GRP_0</td>\n",
              "    </tr>\n",
              "  </tbody>\n",
              "</table>\n",
              "</div>"
            ],
            "text/plain": [
              "               Short description  ... Assignment group\n",
              "0                    login issue  ...            GRP_0\n",
              "1                        outlook  ...            GRP_0\n",
              "2             cant log in to vpn  ...            GRP_0\n",
              "3  unable to access hr_tool page  ...            GRP_0\n",
              "4                   skype error   ...            GRP_0\n",
              "\n",
              "[5 rows x 4 columns]"
            ]
          },
          "metadata": {
            "tags": []
          },
          "execution_count": 93
        }
      ]
    },
    {
      "cell_type": "code",
      "metadata": {
        "id": "-y197-izMqKo",
        "colab_type": "code",
        "colab": {
          "base_uri": "https://localhost:8080/",
          "height": 34
        },
        "outputId": "af253f58-47bd-4319-95d4-c3aeb37fd73b"
      },
      "source": [
        "#number of rows and columns\n",
        "df.shape"
      ],
      "execution_count": 6,
      "outputs": [
        {
          "output_type": "execute_result",
          "data": {
            "text/plain": [
              "(8500, 4)"
            ]
          },
          "metadata": {
            "tags": []
          },
          "execution_count": 6
        }
      ]
    },
    {
      "cell_type": "markdown",
      "metadata": {
        "id": "1FQ8FCLpMqKr",
        "colab_type": "text"
      },
      "source": [
        "**Description - There are 8500 observations and 4 features**"
      ]
    },
    {
      "cell_type": "code",
      "metadata": {
        "id": "3ZS6MVtVMqKr",
        "colab_type": "code",
        "colab": {
          "base_uri": "https://localhost:8080/",
          "height": 204
        },
        "outputId": "7a70ff58-280f-4461-b5fc-ecd63c51f8bc"
      },
      "source": [
        "#Datatypes of each attribute\n",
        "df.info()"
      ],
      "execution_count": 7,
      "outputs": [
        {
          "output_type": "stream",
          "text": [
            "<class 'pandas.core.frame.DataFrame'>\n",
            "RangeIndex: 8500 entries, 0 to 8499\n",
            "Data columns (total 4 columns):\n",
            " #   Column             Non-Null Count  Dtype \n",
            "---  ------             --------------  ----- \n",
            " 0   Short description  8492 non-null   object\n",
            " 1   Description        8499 non-null   object\n",
            " 2   Caller             8500 non-null   object\n",
            " 3   Assignment group   8500 non-null   object\n",
            "dtypes: object(4)\n",
            "memory usage: 265.8+ KB\n"
          ],
          "name": "stdout"
        }
      ]
    },
    {
      "cell_type": "markdown",
      "metadata": {
        "id": "9DkqUFCFMqKu",
        "colab_type": "text"
      },
      "source": [
        "**Description -All the 4 attributes are of object type**"
      ]
    },
    {
      "cell_type": "code",
      "metadata": {
        "id": "LXpYpCRTMqKu",
        "colab_type": "code",
        "colab": {
          "base_uri": "https://localhost:8080/",
          "height": 102
        },
        "outputId": "3944a9a5-b4c6-4182-eacd-4ad9b21fab71"
      },
      "source": [
        "df.isnull().sum()"
      ],
      "execution_count": 51,
      "outputs": [
        {
          "output_type": "execute_result",
          "data": {
            "text/plain": [
              "Short description    8\n",
              "Description          1\n",
              "Caller               0\n",
              "Assignment group     0\n",
              "dtype: int64"
            ]
          },
          "metadata": {
            "tags": []
          },
          "execution_count": 51
        }
      ]
    },
    {
      "cell_type": "markdown",
      "metadata": {
        "id": "MuGk5xdLMqKy",
        "colab_type": "text"
      },
      "source": [
        "**Description - There are null values in 'Short description' and 'Description' columns.**"
      ]
    },
    {
      "cell_type": "code",
      "metadata": {
        "id": "NOSpina9MqKy",
        "colab_type": "code",
        "colab": {}
      },
      "source": [
        "#Dropping the column Caller as it is insignificant for our model\n",
        "df = df.drop(['Caller'],axis = 1)"
      ],
      "execution_count": 0,
      "outputs": []
    },
    {
      "cell_type": "code",
      "metadata": {
        "id": "XL0_CHCLnuKs",
        "colab_type": "code",
        "colab": {
          "base_uri": "https://localhost:8080/",
          "height": 85
        },
        "outputId": "ee53575f-3532-423d-e243-72179de69f50"
      },
      "source": [
        "df = df.dropna()\n",
        "df = df.reset_index(drop=True)\n",
        "print(df.isnull().sum())\n",
        "df_test = pd.DataFrame(df)"
      ],
      "execution_count": 53,
      "outputs": [
        {
          "output_type": "stream",
          "text": [
            "Short description    0\n",
            "Description          0\n",
            "Assignment group     0\n",
            "dtype: int64\n"
          ],
          "name": "stdout"
        }
      ]
    },
    {
      "cell_type": "code",
      "metadata": {
        "id": "TAo1NIXqn8Lo",
        "colab_type": "code",
        "colab": {
          "base_uri": "https://localhost:8080/",
          "height": 68
        },
        "outputId": "0eeb7189-a7bf-4560-9246-150b024ceb46"
      },
      "source": [
        "print('Shape of dataset ',df.shape)\n",
        "print(df.columns)\n",
        "print('No. of unique group',len(set(df['Assignment group'])))"
      ],
      "execution_count": 54,
      "outputs": [
        {
          "output_type": "stream",
          "text": [
            "Shape of dataset  (8491, 3)\n",
            "Index(['Short description', 'Description', 'Assignment group'], dtype='object')\n",
            "No. of unique group 74\n"
          ],
          "name": "stdout"
        }
      ]
    },
    {
      "cell_type": "code",
      "metadata": {
        "id": "7b5MWXebMqK2",
        "colab_type": "code",
        "colab": {
          "base_uri": "https://localhost:8080/",
          "height": 221
        },
        "outputId": "6132a5cb-625a-4e1c-e9ed-658a39df38e2"
      },
      "source": [
        "df['Assignment group'].value_counts()"
      ],
      "execution_count": 55,
      "outputs": [
        {
          "output_type": "execute_result",
          "data": {
            "text/plain": [
              "GRP_0     3968\n",
              "GRP_8      661\n",
              "GRP_24     289\n",
              "GRP_12     257\n",
              "GRP_9      252\n",
              "          ... \n",
              "GRP_73       1\n",
              "GRP_67       1\n",
              "GRP_35       1\n",
              "GRP_61       1\n",
              "GRP_70       1\n",
              "Name: Assignment group, Length: 74, dtype: int64"
            ]
          },
          "metadata": {
            "tags": []
          },
          "execution_count": 55
        }
      ]
    },
    {
      "cell_type": "code",
      "metadata": {
        "id": "mCPJtL_b-ms7",
        "colab_type": "code",
        "colab": {
          "base_uri": "https://localhost:8080/",
          "height": 34
        },
        "outputId": "41ca49b5-1206-4146-e079-3c4600e6005a"
      },
      "source": [
        "import keras \n",
        "import numpy as np\n",
        "from keras.preprocessing.text import Tokenizer\n",
        "import numpy as np\n",
        "import pandas as pd\n",
        "from keras.models import Sequential\n",
        "from keras.layers import Dense\n",
        "from keras.preprocessing.sequence import pad_sequences\n",
        "from keras.layers import Input, Dense, Dropout, Embedding, LSTM, Flatten\n",
        "from keras.models import Model\n",
        "from keras.utils import to_categorical\n",
        "from keras.callbacks import ModelCheckpoint\n",
        "import seaborn as sns\n",
        "import matplotlib.pyplot as plt\n",
        "from sklearn.model_selection import train_test_split\n",
        "from sklearn.metrics import accuracy_score"
      ],
      "execution_count": 14,
      "outputs": [
        {
          "output_type": "stream",
          "text": [
            "Using TensorFlow backend.\n"
          ],
          "name": "stderr"
        }
      ]
    },
    {
      "cell_type": "code",
      "metadata": {
        "id": "8azEDNnK7KrA",
        "colab_type": "code",
        "colab": {}
      },
      "source": [
        "#Lets check count words according to the group\n",
        "df['target'] = df['Assignment group'].astype('category').cat.codes\n",
        "df['num_words'] = df.Description.apply(lambda x : len(x.split()))\n",
        "df['bins']=pd.cut(df.num_words, bins=[0,100,300,500,1000, np.inf], labels=['0-100', '100-300', '300-500','500-800' ,'>1000'])"
      ],
      "execution_count": 0,
      "outputs": []
    },
    {
      "cell_type": "code",
      "metadata": {
        "id": "N9TICanA-7tv",
        "colab_type": "code",
        "colab": {
          "base_uri": "https://localhost:8080/",
          "height": 204
        },
        "outputId": "67a02d90-8b9f-488d-9672-054b3da8ae96"
      },
      "source": [
        "word_distribution = df.groupby('bins').size().reset_index().rename(columns={0:'counts'})\n",
        "word_distribution.head()"
      ],
      "execution_count": 57,
      "outputs": [
        {
          "output_type": "execute_result",
          "data": {
            "text/html": [
              "<div>\n",
              "<style scoped>\n",
              "    .dataframe tbody tr th:only-of-type {\n",
              "        vertical-align: middle;\n",
              "    }\n",
              "\n",
              "    .dataframe tbody tr th {\n",
              "        vertical-align: top;\n",
              "    }\n",
              "\n",
              "    .dataframe thead th {\n",
              "        text-align: right;\n",
              "    }\n",
              "</style>\n",
              "<table border=\"1\" class=\"dataframe\">\n",
              "  <thead>\n",
              "    <tr style=\"text-align: right;\">\n",
              "      <th></th>\n",
              "      <th>bins</th>\n",
              "      <th>counts</th>\n",
              "    </tr>\n",
              "  </thead>\n",
              "  <tbody>\n",
              "    <tr>\n",
              "      <th>0</th>\n",
              "      <td>0-100</td>\n",
              "      <td>8086</td>\n",
              "    </tr>\n",
              "    <tr>\n",
              "      <th>1</th>\n",
              "      <td>100-300</td>\n",
              "      <td>361</td>\n",
              "    </tr>\n",
              "    <tr>\n",
              "      <th>2</th>\n",
              "      <td>300-500</td>\n",
              "      <td>18</td>\n",
              "    </tr>\n",
              "    <tr>\n",
              "      <th>3</th>\n",
              "      <td>500-800</td>\n",
              "      <td>12</td>\n",
              "    </tr>\n",
              "    <tr>\n",
              "      <th>4</th>\n",
              "      <td>&gt;1000</td>\n",
              "      <td>12</td>\n",
              "    </tr>\n",
              "  </tbody>\n",
              "</table>\n",
              "</div>"
            ],
            "text/plain": [
              "      bins  counts\n",
              "0    0-100    8086\n",
              "1  100-300     361\n",
              "2  300-500      18\n",
              "3  500-800      12\n",
              "4    >1000      12"
            ]
          },
          "metadata": {
            "tags": []
          },
          "execution_count": 57
        }
      ]
    },
    {
      "cell_type": "code",
      "metadata": {
        "id": "ds4tqw2e-3Z_",
        "colab_type": "code",
        "colab": {
          "base_uri": "https://localhost:8080/",
          "height": 313
        },
        "outputId": "5a3aff7d-7b11-41aa-ba4e-1218b2ebabd8"
      },
      "source": [
        "#Let visualize the words count as per the bins(including group)\n",
        "sns.barplot(x='bins', y='counts', data=word_distribution).set_title(\"Word distribution per bin\")"
      ],
      "execution_count": 58,
      "outputs": [
        {
          "output_type": "execute_result",
          "data": {
            "text/plain": [
              "Text(0.5, 1.0, 'Word distribution per bin')"
            ]
          },
          "metadata": {
            "tags": []
          },
          "execution_count": 58
        },
        {
          "output_type": "display_data",
          "data": {
            "image/png": "[encoded data removed]",
            "text/plain": [
              "<Figure size 432x288 with 1 Axes>"
            ]
          },
          "metadata": {
            "tags": [],
            "needs_background": "light"
          }
        }
      ]
    },
    {
      "cell_type": "code",
      "metadata": {
        "id": "pH8FTr57FMLB",
        "colab_type": "code",
        "colab": {
          "base_uri": "https://localhost:8080/",
          "height": 359
        },
        "outputId": "541758cb-115b-47b3-f32b-4fb016234653"
      },
      "source": [
        "#Load head 10 records in the dataset\n",
        "df.head(10)"
      ],
      "execution_count": 59,
      "outputs": [
        {
          "output_type": "execute_result",
          "data": {
            "text/html": [
              "<div>\n",
              "<style scoped>\n",
              "    .dataframe tbody tr th:only-of-type {\n",
              "        vertical-align: middle;\n",
              "    }\n",
              "\n",
              "    .dataframe tbody tr th {\n",
              "        vertical-align: top;\n",
              "    }\n",
              "\n",
              "    .dataframe thead th {\n",
              "        text-align: right;\n",
              "    }\n",
              "</style>\n",
              "<table border=\"1\" class=\"dataframe\">\n",
              "  <thead>\n",
              "    <tr style=\"text-align: right;\">\n",
              "      <th></th>\n",
              "      <th>Short description</th>\n",
              "      <th>Description</th>\n",
              "      <th>Assignment group</th>\n",
              "      <th>target</th>\n",
              "      <th>num_words</th>\n",
              "      <th>bins</th>\n",
              "    </tr>\n",
              "  </thead>\n",
              "  <tbody>\n",
              "    <tr>\n",
              "      <th>0</th>\n",
              "      <td>login issue</td>\n",
              "      <td>-verified user details.(employee# &amp; manager na...</td>\n",
              "      <td>GRP_0</td>\n",
              "      <td>0</td>\n",
              "      <td>33</td>\n",
              "      <td>0-100</td>\n",
              "    </tr>\n",
              "    <tr>\n",
              "      <th>1</th>\n",
              "      <td>outlook</td>\n",
              "      <td>\\r\\n\\r\\nreceived from: hmjdrvpb.komuaywn@gmail...</td>\n",
              "      <td>GRP_0</td>\n",
              "      <td>0</td>\n",
              "      <td>25</td>\n",
              "      <td>0-100</td>\n",
              "    </tr>\n",
              "    <tr>\n",
              "      <th>2</th>\n",
              "      <td>cant log in to vpn</td>\n",
              "      <td>\\r\\n\\r\\nreceived from: eylqgodm.ybqkwiam@gmail...</td>\n",
              "      <td>GRP_0</td>\n",
              "      <td>0</td>\n",
              "      <td>11</td>\n",
              "      <td>0-100</td>\n",
              "    </tr>\n",
              "    <tr>\n",
              "      <th>3</th>\n",
              "      <td>unable to access hr_tool page</td>\n",
              "      <td>unable to access hr_tool page</td>\n",
              "      <td>GRP_0</td>\n",
              "      <td>0</td>\n",
              "      <td>5</td>\n",
              "      <td>0-100</td>\n",
              "    </tr>\n",
              "    <tr>\n",
              "      <th>4</th>\n",
              "      <td>skype error</td>\n",
              "      <td>skype error</td>\n",
              "      <td>GRP_0</td>\n",
              "      <td>0</td>\n",
              "      <td>2</td>\n",
              "      <td>0-100</td>\n",
              "    </tr>\n",
              "    <tr>\n",
              "      <th>5</th>\n",
              "      <td>unable to log in to engineering tool and skype</td>\n",
              "      <td>unable to log in to engineering tool and skype</td>\n",
              "      <td>GRP_0</td>\n",
              "      <td>0</td>\n",
              "      <td>9</td>\n",
              "      <td>0-100</td>\n",
              "    </tr>\n",
              "    <tr>\n",
              "      <th>6</th>\n",
              "      <td>event: critical:HostName_221.company.com the v...</td>\n",
              "      <td>event: critical:HostName_221.company.com the v...</td>\n",
              "      <td>GRP_1</td>\n",
              "      <td>1</td>\n",
              "      <td>11</td>\n",
              "      <td>0-100</td>\n",
              "    </tr>\n",
              "    <tr>\n",
              "      <th>7</th>\n",
              "      <td>ticket_no1550391- employment status - new non-...</td>\n",
              "      <td>ticket_no1550391- employment status - new non-...</td>\n",
              "      <td>GRP_0</td>\n",
              "      <td>0</td>\n",
              "      <td>9</td>\n",
              "      <td>0-100</td>\n",
              "    </tr>\n",
              "    <tr>\n",
              "      <th>8</th>\n",
              "      <td>unable to disable add ins on outlook</td>\n",
              "      <td>unable to disable add ins on outlook</td>\n",
              "      <td>GRP_0</td>\n",
              "      <td>0</td>\n",
              "      <td>7</td>\n",
              "      <td>0-100</td>\n",
              "    </tr>\n",
              "    <tr>\n",
              "      <th>9</th>\n",
              "      <td>ticket update on inplant_874773</td>\n",
              "      <td>ticket update on inplant_874773</td>\n",
              "      <td>GRP_0</td>\n",
              "      <td>0</td>\n",
              "      <td>4</td>\n",
              "      <td>0-100</td>\n",
              "    </tr>\n",
              "  </tbody>\n",
              "</table>\n",
              "</div>"
            ],
            "text/plain": [
              "                                   Short description  ...   bins\n",
              "0                                        login issue  ...  0-100\n",
              "1                                            outlook  ...  0-100\n",
              "2                                 cant log in to vpn  ...  0-100\n",
              "3                      unable to access hr_tool page  ...  0-100\n",
              "4                                       skype error   ...  0-100\n",
              "5     unable to log in to engineering tool and skype  ...  0-100\n",
              "6  event: critical:HostName_221.company.com the v...  ...  0-100\n",
              "7  ticket_no1550391- employment status - new non-...  ...  0-100\n",
              "8               unable to disable add ins on outlook  ...  0-100\n",
              "9                    ticket update on inplant_874773  ...  0-100\n",
              "\n",
              "[10 rows x 6 columns]"
            ]
          },
          "metadata": {
            "tags": []
          },
          "execution_count": 59
        }
      ]
    },
    {
      "cell_type": "code",
      "metadata": {
        "id": "X9Q1ebNZoIMo",
        "colab_type": "code",
        "colab": {
          "base_uri": "https://localhost:8080/",
          "height": 71
        },
        "outputId": "6a82a9b1-c803-4565-8789-ebe34878c4ec"
      },
      "source": [
        "macronum=sorted(set(df['Assignment group']))\n",
        "macro_to_id = dict((note, number) for number, note in enumerate(macronum))\n",
        "\n",
        "def reassigngroupid(i):\n",
        "    return macro_to_id[i]\n",
        "\n",
        "print(macronum)\n",
        "print(macro_to_id)\n"
      ],
      "execution_count": 60,
      "outputs": [
        {
          "output_type": "stream",
          "text": [
            "['GRP_0', 'GRP_1', 'GRP_10', 'GRP_11', 'GRP_12', 'GRP_13', 'GRP_14', 'GRP_15', 'GRP_16', 'GRP_17', 'GRP_18', 'GRP_19', 'GRP_2', 'GRP_20', 'GRP_21', 'GRP_22', 'GRP_23', 'GRP_24', 'GRP_25', 'GRP_26', 'GRP_27', 'GRP_28', 'GRP_29', 'GRP_3', 'GRP_30', 'GRP_31', 'GRP_32', 'GRP_33', 'GRP_34', 'GRP_35', 'GRP_36', 'GRP_37', 'GRP_38', 'GRP_39', 'GRP_4', 'GRP_40', 'GRP_41', 'GRP_42', 'GRP_43', 'GRP_44', 'GRP_45', 'GRP_46', 'GRP_47', 'GRP_48', 'GRP_49', 'GRP_5', 'GRP_50', 'GRP_51', 'GRP_52', 'GRP_53', 'GRP_54', 'GRP_55', 'GRP_56', 'GRP_57', 'GRP_58', 'GRP_59', 'GRP_6', 'GRP_60', 'GRP_61', 'GRP_62', 'GRP_63', 'GRP_64', 'GRP_65', 'GRP_66', 'GRP_67', 'GRP_68', 'GRP_69', 'GRP_7', 'GRP_70', 'GRP_71', 'GRP_72', 'GRP_73', 'GRP_8', 'GRP_9']\n",
            "{'GRP_0': 0, 'GRP_1': 1, 'GRP_10': 2, 'GRP_11': 3, 'GRP_12': 4, 'GRP_13': 5, 'GRP_14': 6, 'GRP_15': 7, 'GRP_16': 8, 'GRP_17': 9, 'GRP_18': 10, 'GRP_19': 11, 'GRP_2': 12, 'GRP_20': 13, 'GRP_21': 14, 'GRP_22': 15, 'GRP_23': 16, 'GRP_24': 17, 'GRP_25': 18, 'GRP_26': 19, 'GRP_27': 20, 'GRP_28': 21, 'GRP_29': 22, 'GRP_3': 23, 'GRP_30': 24, 'GRP_31': 25, 'GRP_32': 26, 'GRP_33': 27, 'GRP_34': 28, 'GRP_35': 29, 'GRP_36': 30, 'GRP_37': 31, 'GRP_38': 32, 'GRP_39': 33, 'GRP_4': 34, 'GRP_40': 35, 'GRP_41': 36, 'GRP_42': 37, 'GRP_43': 38, 'GRP_44': 39, 'GRP_45': 40, 'GRP_46': 41, 'GRP_47': 42, 'GRP_48': 43, 'GRP_49': 44, 'GRP_5': 45, 'GRP_50': 46, 'GRP_51': 47, 'GRP_52': 48, 'GRP_53': 49, 'GRP_54': 50, 'GRP_55': 51, 'GRP_56': 52, 'GRP_57': 53, 'GRP_58': 54, 'GRP_59': 55, 'GRP_6': 56, 'GRP_60': 57, 'GRP_61': 58, 'GRP_62': 59, 'GRP_63': 60, 'GRP_64': 61, 'GRP_65': 62, 'GRP_66': 63, 'GRP_67': 64, 'GRP_68': 65, 'GRP_69': 66, 'GRP_7': 67, 'GRP_70': 68, 'GRP_71': 69, 'GRP_72': 70, 'GRP_73': 71, 'GRP_8': 72, 'GRP_9': 73}\n"
          ],
          "name": "stdout"
        }
      ]
    },
    {
      "cell_type": "code",
      "metadata": {
        "id": "iglThM3WFi2-",
        "colab_type": "code",
        "colab": {}
      },
      "source": [
        "df['Assignment group']=df['Assignment group'].apply(reassigngroupid)"
      ],
      "execution_count": 0,
      "outputs": []
    },
    {
      "cell_type": "code",
      "metadata": {
        "id": "8vrGWIhN_k2p",
        "colab_type": "code",
        "colab": {
          "base_uri": "https://localhost:8080/",
          "height": 1000
        },
        "outputId": "d6fdb2db-75cc-4129-cb14-301b5bdd2d9b"
      },
      "source": [
        "#Now let's plot the Assignment group after dropping the null values\n",
        "group=df['Assignment group']\n",
        "plt.figure(figsize=(25,25))\n",
        "sns.countplot(y=group)\n",
        "plt.show()"
      ],
      "execution_count": 62,
      "outputs": [
        {
          "output_type": "display_data",
          "data": {
            "image/png": "[encoded data removed]",
            "text/plain": [
              "<Figure size 1800x1800 with 1 Axes>"
            ]
          },
          "metadata": {
            "tags": [],
            "needs_background": "light"
          }
        }
      ]
    },
    {
      "cell_type": "code",
      "metadata": {
        "id": "W1n7g8ZRolwJ",
        "colab_type": "code",
        "colab": {
          "base_uri": "https://localhost:8080/",
          "height": 204
        },
        "outputId": "38f9973d-3bf8-44c6-d20a-ab525a4f452c"
      },
      "source": [
        "#Concate the two columns into one column Description\n",
        "df['Description'] =  df['Short description'].str.cat(df['Description'], sep =\" \") \n",
        "df.head()"
      ],
      "execution_count": 63,
      "outputs": [
        {
          "output_type": "execute_result",
          "data": {
            "text/html": [
              "<div>\n",
              "<style scoped>\n",
              "    .dataframe tbody tr th:only-of-type {\n",
              "        vertical-align: middle;\n",
              "    }\n",
              "\n",
              "    .dataframe tbody tr th {\n",
              "        vertical-align: top;\n",
              "    }\n",
              "\n",
              "    .dataframe thead th {\n",
              "        text-align: right;\n",
              "    }\n",
              "</style>\n",
              "<table border=\"1\" class=\"dataframe\">\n",
              "  <thead>\n",
              "    <tr style=\"text-align: right;\">\n",
              "      <th></th>\n",
              "      <th>Short description</th>\n",
              "      <th>Description</th>\n",
              "      <th>Assignment group</th>\n",
              "      <th>target</th>\n",
              "      <th>num_words</th>\n",
              "      <th>bins</th>\n",
              "    </tr>\n",
              "  </thead>\n",
              "  <tbody>\n",
              "    <tr>\n",
              "      <th>0</th>\n",
              "      <td>login issue</td>\n",
              "      <td>login issue -verified user details.(employee# ...</td>\n",
              "      <td>0</td>\n",
              "      <td>0</td>\n",
              "      <td>33</td>\n",
              "      <td>0-100</td>\n",
              "    </tr>\n",
              "    <tr>\n",
              "      <th>1</th>\n",
              "      <td>outlook</td>\n",
              "      <td>outlook \\r\\n\\r\\nreceived from: hmjdrvpb.komuay...</td>\n",
              "      <td>0</td>\n",
              "      <td>0</td>\n",
              "      <td>25</td>\n",
              "      <td>0-100</td>\n",
              "    </tr>\n",
              "    <tr>\n",
              "      <th>2</th>\n",
              "      <td>cant log in to vpn</td>\n",
              "      <td>cant log in to vpn \\r\\n\\r\\nreceived from: eylq...</td>\n",
              "      <td>0</td>\n",
              "      <td>0</td>\n",
              "      <td>11</td>\n",
              "      <td>0-100</td>\n",
              "    </tr>\n",
              "    <tr>\n",
              "      <th>3</th>\n",
              "      <td>unable to access hr_tool page</td>\n",
              "      <td>unable to access hr_tool page unable to access...</td>\n",
              "      <td>0</td>\n",
              "      <td>0</td>\n",
              "      <td>5</td>\n",
              "      <td>0-100</td>\n",
              "    </tr>\n",
              "    <tr>\n",
              "      <th>4</th>\n",
              "      <td>skype error</td>\n",
              "      <td>skype error  skype error</td>\n",
              "      <td>0</td>\n",
              "      <td>0</td>\n",
              "      <td>2</td>\n",
              "      <td>0-100</td>\n",
              "    </tr>\n",
              "  </tbody>\n",
              "</table>\n",
              "</div>"
            ],
            "text/plain": [
              "               Short description  ...   bins\n",
              "0                    login issue  ...  0-100\n",
              "1                        outlook  ...  0-100\n",
              "2             cant log in to vpn  ...  0-100\n",
              "3  unable to access hr_tool page  ...  0-100\n",
              "4                   skype error   ...  0-100\n",
              "\n",
              "[5 rows x 6 columns]"
            ]
          },
          "metadata": {
            "tags": []
          },
          "execution_count": 63
        }
      ]
    },
    {
      "cell_type": "code",
      "metadata": {
        "id": "aL0eqmkspuqB",
        "colab_type": "code",
        "colab": {}
      },
      "source": [
        "#Creating a list of stop words \n",
        "stop_words = set(stopwords.words(\"english\"))"
      ],
      "execution_count": 0,
      "outputs": []
    },
    {
      "cell_type": "code",
      "metadata": {
        "id": "KLUOg2uOow5x",
        "colab_type": "code",
        "colab": {}
      },
      "source": [
        "from nltk.corpus import wordnet\n",
        "#Define wordnet parts of speech tagging\n",
        "def get_wordnet_pos(word):\n",
        "    \"\"\"Map POS tag to first character lemmatize() accepts\"\"\"\n",
        "    tag = nltk.pos_tag([word])[0][1][0].upper()\n",
        "    tag_dict = {\"J\": wordnet.ADJ,\n",
        "                \"N\": wordnet.NOUN,\n",
        "                \"V\": wordnet.VERB,\n",
        "                \"R\": wordnet.ADV}\n",
        "\n",
        "    return tag_dict.get(tag, wordnet.NOUN)"
      ],
      "execution_count": 0,
      "outputs": []
    },
    {
      "cell_type": "code",
      "metadata": {
        "id": "wjUDMw2O0Dk6",
        "colab_type": "code",
        "colab": {}
      },
      "source": [
        "#Method to remove duplicate words this method will be used since we are concatting two columns into one and to two avoid repeated words.\n",
        "def unique_list(l):\n",
        "    ulist = []\n",
        "    [ulist.append(x) for x in l if x not in ulist]\n",
        "    return ulist"
      ],
      "execution_count": 0,
      "outputs": []
    },
    {
      "cell_type": "code",
      "metadata": {
        "id": "z9EqF2Teox3v",
        "colab_type": "code",
        "colab": {}
      },
      "source": [
        "def preprocess_text(sentence):\n",
        "    #Remove punctuations\n",
        "    text = re.sub('[^a-zA-Z]', ' ', str(sentence))\n",
        "    text = re.sub(r\"[!\\\"#$%&\\'()*+,-./:;<=>?@^_`{|}~\\[\\]]\",\" \",text)    \n",
        "    #Convert to lowercase\n",
        "    text = text.lower()\n",
        "    #remove tags\n",
        "    text=re.sub(\"&lt;/?.:-_*?&gt;@\",\" &lt;&gt; \",text)    \n",
        "    # remove special characters and digits\n",
        "    text=re.sub(\"(\\\\d|\\\\W)+\",\" \",text)\n",
        "    # Single character removal\n",
        "    text = re.sub(r\"\\s+[a-zA-Z]\\s+\", ' ', text)\n",
        "    \n",
        "    # removing numbers\n",
        "    text = re.sub(r\"[0-9]\",\"\",text) \n",
        "    \n",
        "    # Removing multiple spaces\n",
        "    text = re.sub(r'\\s+', ' ', text)\n",
        "\n",
        "    #Convert to list from string\n",
        "    text = text.split()\n",
        "    \n",
        "    #text = \" \".join(unique_list(text))\n",
        "\n",
        "    #Lemmatisation\n",
        "    lem = WordNetLemmatizer()\n",
        "    text = [lem.lemmatize(word) for word in text if not word in stop_words] \n",
        "    text = \" \".join(text)    \n",
        "    return text"
      ],
      "execution_count": 0,
      "outputs": []
    },
    {
      "cell_type": "code",
      "metadata": {
        "id": "PxrprkvjpU6z",
        "colab_type": "code",
        "colab": {}
      },
      "source": [
        "import pickle\n",
        "from collections import defaultdict\n",
        "import re\n",
        "from bs4 import BeautifulSoup\n",
        "import sys\n",
        "\"\"\"import os\n",
        "os.environ['KERAS_BACKEND']='theano' # Why theano why not\"\"\"\n",
        "from keras.preprocessing.text import Tokenizer\n",
        "from keras.preprocessing.sequence import pad_sequences\n",
        "from keras.utils.np_utils import to_categorical\n",
        "from keras.layers import Embedding\n",
        "from keras.layers import Dense, Input, Flatten\n",
        "from keras.layers import Conv1D, MaxPooling1D, Embedding, Dropout\n",
        "from keras.models import Model\n",
        "from keras.callbacks import ModelCheckpoint\n",
        "import matplotlib.pyplot as plt\n",
        "plt.switch_backend('agg')\n",
        "%matplotlib inline"
      ],
      "execution_count": 0,
      "outputs": []
    },
    {
      "cell_type": "code",
      "metadata": {
        "id": "SKO-zQT5qDzY",
        "colab_type": "code",
        "colab": {
          "base_uri": "https://localhost:8080/",
          "height": 34
        },
        "outputId": "4a5a8d87-e9a3-4cb1-c0f0-904e93d26cc1"
      },
      "source": [
        "print(df.Description.shape[0])"
      ],
      "execution_count": 69,
      "outputs": [
        {
          "output_type": "stream",
          "text": [
            "8491\n"
          ],
          "name": "stdout"
        }
      ]
    },
    {
      "cell_type": "code",
      "metadata": {
        "id": "XiSI--jfoQ4g",
        "colab_type": "code",
        "colab": {}
      },
      "source": [
        "texts = []\n",
        "labels = []\n",
        "\n",
        "\n",
        "for idx in range(df.Description.shape[0]):\n",
        "    text = BeautifulSoup(df.Description[idx])\n",
        "    texts.append(preprocess_text(str(text.get_text())))\n",
        "    df.Description[idx]=preprocess_text(str(df.Description[idx]))\n",
        "\n",
        "for idx in df['Assignment group']:\n",
        "    labels.append(idx)"
      ],
      "execution_count": 0,
      "outputs": []
    },
    {
      "cell_type": "code",
      "metadata": {
        "id": "wDvQ4j0Rq9HQ",
        "colab_type": "code",
        "colab": {}
      },
      "source": [
        "MAX_SEQUENCE_LENGTH = 500\n",
        "MAX_NB_WORDS = 20000\n",
        "EMBEDDING_DIM = 100\n",
        "VALIDATION_SPLIT = 0.2"
      ],
      "execution_count": 0,
      "outputs": []
    },
    {
      "cell_type": "code",
      "metadata": {
        "id": "KhThSWT3oQ23",
        "colab_type": "code",
        "colab": {
          "base_uri": "https://localhost:8080/",
          "height": 34
        },
        "outputId": "267d0a54-0bd3-40ac-96ca-fd8eb8047ab5"
      },
      "source": [
        "tokenizer = Tokenizer(num_words=MAX_NB_WORDS)\n",
        "tokenizer.fit_on_texts(texts)\n",
        "sequences = tokenizer.texts_to_sequences(texts)\n",
        "\n",
        "word_index = tokenizer.word_index\n",
        "print('Number of Unique Tokens',len(word_index))"
      ],
      "execution_count": 72,
      "outputs": [
        {
          "output_type": "stream",
          "text": [
            "Number of Unique Tokens 18\n"
          ],
          "name": "stdout"
        }
      ]
    },
    {
      "cell_type": "code",
      "metadata": {
        "id": "p3z9VqYloQzv",
        "colab_type": "code",
        "colab": {
          "base_uri": "https://localhost:8080/",
          "height": 51
        },
        "outputId": "d8fb54aa-8a06-4e7f-e774-57b98fe1653b"
      },
      "source": [
        "data = pad_sequences(sequences, maxlen=MAX_SEQUENCE_LENGTH)\n",
        "\n",
        "labels = to_categorical(np.asarray(labels))\n",
        "print('Shape of Data Tensor:', data.shape)\n",
        "print('Shape of Label Tensor:', labels.shape)\n",
        "\n",
        "indices = np.arange(data.shape[0])\n",
        "np.random.shuffle(indices)\n",
        "data = data[indices]\n",
        "labels = labels[indices]\n",
        "nb_validation_samples = int(VALIDATION_SPLIT * data.shape[0])\n",
        "\n",
        "x_train = data[:-nb_validation_samples]\n",
        "y_train = labels[:-nb_validation_samples]\n",
        "x_val = data[-nb_validation_samples:]\n",
        "y_val = labels[-nb_validation_samples:]\n"
      ],
      "execution_count": 73,
      "outputs": [
        {
          "output_type": "stream",
          "text": [
            "Shape of Data Tensor: (8491, 500)\n",
            "Shape of Label Tensor: (8491, 74)\n"
          ],
          "name": "stdout"
        }
      ]
    },
    {
      "cell_type": "code",
      "metadata": {
        "id": "JwPlQrY2RnXM",
        "colab_type": "code",
        "colab": {
          "base_uri": "https://localhost:8080/",
          "height": 85
        },
        "outputId": "f282cfbb-e1dd-47da-9cd5-56471eb2a59a"
      },
      "source": [
        "# describes info about train and test set \n",
        "print(\"Number transactions X_train dataset: \", x_train.shape) \n",
        "print(\"Number transactions y_train dataset: \", y_train.shape) \n",
        "print(\"Number transactions x_val dataset: \", x_val.shape) \n",
        "print(\"Number transactions y_val dataset: \", y_val.shape) \n"
      ],
      "execution_count": 74,
      "outputs": [
        {
          "output_type": "stream",
          "text": [
            "Number transactions X_train dataset:  (6793, 500)\n",
            "Number transactions y_train dataset:  (6793, 74)\n",
            "Number transactions x_val dataset:  (1698, 500)\n",
            "Number transactions y_val dataset:  (1698, 74)\n"
          ],
          "name": "stdout"
        }
      ]
    },
    {
      "cell_type": "code",
      "metadata": {
        "id": "nMxrCoSPRnTd",
        "colab_type": "code",
        "colab": {}
      },
      "source": [
        ""
      ],
      "execution_count": 0,
      "outputs": []
    },
    {
      "cell_type": "code",
      "metadata": {
        "id": "XBzJ0bvORnPe",
        "colab_type": "code",
        "colab": {}
      },
      "source": [
        ""
      ],
      "execution_count": 0,
      "outputs": []
    },
    {
      "cell_type": "code",
      "metadata": {
        "id": "iE16IBP-RnLR",
        "colab_type": "code",
        "colab": {}
      },
      "source": [
        ""
      ],
      "execution_count": 0,
      "outputs": []
    },
    {
      "cell_type": "code",
      "metadata": {
        "id": "MvjGP56IRnIA",
        "colab_type": "code",
        "colab": {}
      },
      "source": [
        ""
      ],
      "execution_count": 0,
      "outputs": []
    },
    {
      "cell_type": "code",
      "metadata": {
        "id": "DeA-3IuxRnDl",
        "colab_type": "code",
        "colab": {}
      },
      "source": [
        ""
      ],
      "execution_count": 0,
      "outputs": []
    },
    {
      "cell_type": "code",
      "metadata": {
        "id": "8RQqjwQwRjx2",
        "colab_type": "code",
        "colab": {}
      },
      "source": [
        ""
      ],
      "execution_count": 0,
      "outputs": []
    },
    {
      "cell_type": "code",
      "metadata": {
        "id": "W8EohVSHudlf",
        "colab_type": "code",
        "colab": {}
      },
      "source": [
        "glove_file = \"/content/drive/My Drive/glove.6B.zip\"\n",
        "#Extract Glove embedding zip file\n",
        "from zipfile import ZipFile\n",
        "with ZipFile(glove_file, 'r') as z:\n",
        "  z.extractall()"
      ],
      "execution_count": 0,
      "outputs": []
    },
    {
      "cell_type": "code",
      "metadata": {
        "id": "Dgr2I-qzoQyB",
        "colab_type": "code",
        "colab": {
          "base_uri": "https://localhost:8080/",
          "height": 34
        },
        "outputId": "d8e64361-8e8d-4da3-e172-f821b0e08f85"
      },
      "source": [
        "embeddings_index = {}\n",
        "f = open('/content/glove.6B.100d.txt',encoding='utf8')\n",
        "for line in f:\n",
        "    values = line.split()\n",
        "    word = values[0]\n",
        "    coefs = np.asarray(values[1:], dtype='float32')\n",
        "    embeddings_index[word] = coefs\n",
        "f.close()\n",
        "\n",
        "print('Total %s word vectors in Glove 6B 100d.' % len(embeddings_index))"
      ],
      "execution_count": 76,
      "outputs": [
        {
          "output_type": "stream",
          "text": [
            "Total 400001 word vectors in Glove 6B 100d.\n"
          ],
          "name": "stdout"
        }
      ]
    },
    {
      "cell_type": "code",
      "metadata": {
        "id": "mMrbhjYVoQu_",
        "colab_type": "code",
        "colab": {}
      },
      "source": [
        "embedding_matrix = np.random.random((len(word_index) + 1, EMBEDDING_DIM))\n",
        "for word, i in word_index.items():\n",
        "    embedding_vector = embeddings_index.get(word)\n",
        "    if embedding_vector is not None:\n",
        "        # words not found in embedding index will be all-zeros.\n",
        "        embedding_matrix[i] = embedding_vector"
      ],
      "execution_count": 0,
      "outputs": []
    },
    {
      "cell_type": "markdown",
      "metadata": {
        "id": "sdWcG-vZNxVm",
        "colab_type": "text"
      },
      "source": [
        "**Building model using CNN**"
      ]
    },
    {
      "cell_type": "code",
      "metadata": {
        "id": "8Gw_ry7JoQte",
        "colab_type": "code",
        "colab": {
          "base_uri": "https://localhost:8080/",
          "height": 544
        },
        "outputId": "5c11441b-939f-4aa5-8408-5a225b3cd421"
      },
      "source": [
        "#importing libraries for model building\n",
        "from tensorflow.keras.preprocessing.text import Tokenizer\n",
        "from tensorflow.keras.preprocessing.sequence import pad_sequences\n",
        "from tensorflow.keras.layers import Dense, Input, LSTM, Embedding, Dropout, Activation, Flatten, Bidirectional, GlobalMaxPool1D\n",
        "from tensorflow.keras.models import Model, Sequential\n",
        "from keras.utils import to_categorical\n",
        "from tensorflow.keras.layers import Embedding\n",
        "from tensorflow.keras.layers import Dense, Input, Flatten\n",
        "from tensorflow.keras.layers import Conv1D, MaxPooling1D, Embedding, Dropout\n",
        "from tensorflow.keras.callbacks import ModelCheckpoint\n",
        "\n",
        "embedding_layer = Embedding(len(word_index) + 1,\n",
        "                            EMBEDDING_DIM,weights=[embedding_matrix],\n",
        "                            input_length=MAX_SEQUENCE_LENGTH,trainable=True)\n",
        "\n",
        "sequence_input = Input(shape=(MAX_SEQUENCE_LENGTH,), dtype='int32')\n",
        "embedded_sequences = embedding_layer(sequence_input)\n",
        "l_cov1= Conv1D(128, 5, activation='relu')(embedded_sequences)\n",
        "l_pool1 = MaxPooling1D(5)(l_cov1)\n",
        "l_cov2 = Conv1D(128, 5, activation='relu')(l_pool1)\n",
        "l_pool2 = MaxPooling1D(5)(l_cov2)\n",
        "l_cov3 = Conv1D(128, 5, activation='relu')(l_pool2)\n",
        "l_pool3 = MaxPooling1D(5)(l_cov3)  # global max pooling\n",
        "l_flat = Flatten()(l_pool3)\n",
        "l_dense = Dense(128, activation='relu')(l_flat)\n",
        "preds = Dense(len(macronum), activation='softmax')(l_dense)\n",
        "\n",
        "model = Model(sequence_input, preds)\n",
        "model.compile(loss='categorical_crossentropy',\n",
        "              optimizer='rmsprop',\n",
        "              metrics=['acc'])\n",
        "\n",
        "print(\"Simplified convolutional neural network\")\n",
        "model.summary()\n",
        "cp=ModelCheckpoint('model_cnn.hdf5',monitor='val_acc',verbose=1,save_best_only=True)"
      ],
      "execution_count": 80,
      "outputs": [
        {
          "output_type": "stream",
          "text": [
            "Simplified convolutional neural network\n",
            "Model: \"model\"\n",
            "_________________________________________________________________\n",
            "Layer (type)                 Output Shape              Param #   \n",
            "=================================================================\n",
            "input_2 (InputLayer)         [(None, 500)]             0         \n",
            "_________________________________________________________________\n",
            "embedding_1 (Embedding)      (None, 500, 100)          1900      \n",
            "_________________________________________________________________\n",
            "conv1d_3 (Conv1D)            (None, 496, 128)          64128     \n",
            "_________________________________________________________________\n",
            "max_pooling1d_3 (MaxPooling1 (None, 99, 128)           0         \n",
            "_________________________________________________________________\n",
            "conv1d_4 (Conv1D)            (None, 95, 128)           82048     \n",
            "_________________________________________________________________\n",
            "max_pooling1d_4 (MaxPooling1 (None, 19, 128)           0         \n",
            "_________________________________________________________________\n",
            "conv1d_5 (Conv1D)            (None, 15, 128)           82048     \n",
            "_________________________________________________________________\n",
            "max_pooling1d_5 (MaxPooling1 (None, 3, 128)            0         \n",
            "_________________________________________________________________\n",
            "flatten (Flatten)            (None, 384)               0         \n",
            "_________________________________________________________________\n",
            "dense (Dense)                (None, 128)               49280     \n",
            "_________________________________________________________________\n",
            "dense_1 (Dense)              (None, 74)                9546      \n",
            "=================================================================\n",
            "Total params: 288,950\n",
            "Trainable params: 288,950\n",
            "Non-trainable params: 0\n",
            "_________________________________________________________________\n"
          ],
          "name": "stdout"
        }
      ]
    },
    {
      "cell_type": "code",
      "metadata": {
        "id": "6CEub1ProQoI",
        "colab_type": "code",
        "colab": {
          "base_uri": "https://localhost:8080/",
          "height": 1000
        },
        "outputId": "5da32ee9-0757-481e-cecf-6af9e4bf2c3f"
      },
      "source": [
        "from tensorflow.keras.utils import plot_model\n",
        "plot_model(model, to_file='/content/drive/My Drive/model_plot1.png', show_shapes=True, show_layer_names=True)"
      ],
      "execution_count": 81,
      "outputs": [
        {
          "output_type": "execute_result",
          "data": {
            "image/png": "[encoded data removed]",
            "text/plain": [
              "<IPython.core.display.Image object>"
            ]
          },
          "metadata": {
            "tags": []
          },
          "execution_count": 81
        }
      ]
    },
    {
      "cell_type": "code",
      "metadata": {
        "id": "gFD56JIDoQl8",
        "colab_type": "code",
        "colab": {
          "base_uri": "https://localhost:8080/",
          "height": 1000
        },
        "outputId": "f698171b-16df-4188-bdff-48fbfa920918"
      },
      "source": [
        "batch_size = 100\n",
        "epochs = 15\n",
        "history = model.fit(x_train, y_train, validation_data=(x_val, y_val),epochs=epochs, batch_size=batch_size,callbacks=[cp])"
      ],
      "execution_count": 82,
      "outputs": [
        {
          "output_type": "stream",
          "text": [
            "Train on 6793 samples, validate on 1698 samples\n",
            "Epoch 1/15\n",
            "6700/6793 [============================>.] - ETA: 0s - loss: 2.7161 - acc: 0.4584\n",
            "Epoch 00001: val_acc improved from -inf to 0.50883, saving model to model_cnn.hdf5\n",
            "6793/6793 [==============================] - 48s 7ms/sample - loss: 2.7157 - acc: 0.4589 - val_loss: 2.7342 - val_acc: 0.5088\n",
            "Epoch 2/15\n",
            "6700/6793 [============================>.] - ETA: 0s - loss: 2.2841 - acc: 0.5199\n",
            "Epoch 00002: val_acc improved from 0.50883 to 0.51413, saving model to model_cnn.hdf5\n",
            "6793/6793 [==============================] - 47s 7ms/sample - loss: 2.2883 - acc: 0.5188 - val_loss: 2.3508 - val_acc: 0.5141\n",
            "Epoch 3/15\n",
            "6700/6793 [============================>.] - ETA: 0s - loss: 2.1501 - acc: 0.5270\n",
            "Epoch 00003: val_acc improved from 0.51413 to 0.52945, saving model to model_cnn.hdf5\n",
            "6793/6793 [==============================] - 47s 7ms/sample - loss: 2.1462 - acc: 0.5275 - val_loss: 2.1210 - val_acc: 0.5294\n",
            "Epoch 4/15\n",
            "6700/6793 [============================>.] - ETA: 0s - loss: 2.0605 - acc: 0.5370\n",
            "Epoch 00004: val_acc improved from 0.52945 to 0.53357, saving model to model_cnn.hdf5\n",
            "6793/6793 [==============================] - 47s 7ms/sample - loss: 2.0631 - acc: 0.5361 - val_loss: 2.0337 - val_acc: 0.5336\n",
            "Epoch 5/15\n",
            "6700/6793 [============================>.] - ETA: 0s - loss: 1.9710 - acc: 0.5455\n",
            "Epoch 00005: val_acc improved from 0.53357 to 0.55830, saving model to model_cnn.hdf5\n",
            "6793/6793 [==============================] - 47s 7ms/sample - loss: 1.9706 - acc: 0.5456 - val_loss: 1.9573 - val_acc: 0.5583\n",
            "Epoch 6/15\n",
            "6700/6793 [============================>.] - ETA: 0s - loss: 1.8710 - acc: 0.5637\n",
            "Epoch 00006: val_acc improved from 0.55830 to 0.57244, saving model to model_cnn.hdf5\n",
            "6793/6793 [==============================] - 48s 7ms/sample - loss: 1.8731 - acc: 0.5634 - val_loss: 1.9604 - val_acc: 0.5724\n",
            "Epoch 7/15\n",
            "6700/6793 [============================>.] - ETA: 0s - loss: 1.7819 - acc: 0.5773\n",
            "Epoch 00007: val_acc did not improve from 0.57244\n",
            "6793/6793 [==============================] - 47s 7ms/sample - loss: 1.7867 - acc: 0.5762 - val_loss: 1.9733 - val_acc: 0.5595\n",
            "Epoch 8/15\n",
            "6700/6793 [============================>.] - ETA: 0s - loss: 1.7051 - acc: 0.5869\n",
            "Epoch 00008: val_acc improved from 0.57244 to 0.57656, saving model to model_cnn.hdf5\n",
            "6793/6793 [==============================] - 47s 7ms/sample - loss: 1.7053 - acc: 0.5863 - val_loss: 1.8825 - val_acc: 0.5766\n",
            "Epoch 9/15\n",
            "6700/6793 [============================>.] - ETA: 0s - loss: 1.6023 - acc: 0.6048\n",
            "Epoch 00009: val_acc improved from 0.57656 to 0.57774, saving model to model_cnn.hdf5\n",
            "6793/6793 [==============================] - 47s 7ms/sample - loss: 1.6030 - acc: 0.6046 - val_loss: 1.8884 - val_acc: 0.5777\n",
            "Epoch 10/15\n",
            "6700/6793 [============================>.] - ETA: 0s - loss: 1.5117 - acc: 0.6148\n",
            "Epoch 00010: val_acc improved from 0.57774 to 0.58009, saving model to model_cnn.hdf5\n",
            "6793/6793 [==============================] - 47s 7ms/sample - loss: 1.5149 - acc: 0.6146 - val_loss: 1.9292 - val_acc: 0.5801\n",
            "Epoch 11/15\n",
            "6700/6793 [============================>.] - ETA: 0s - loss: 1.4061 - acc: 0.6360\n",
            "Epoch 00011: val_acc improved from 0.58009 to 0.58657, saving model to model_cnn.hdf5\n",
            "6793/6793 [==============================] - 47s 7ms/sample - loss: 1.4042 - acc: 0.6358 - val_loss: 1.9282 - val_acc: 0.5866\n",
            "Epoch 12/15\n",
            "6700/6793 [============================>.] - ETA: 0s - loss: 1.3138 - acc: 0.6499\n",
            "Epoch 00012: val_acc did not improve from 0.58657\n",
            "6793/6793 [==============================] - 47s 7ms/sample - loss: 1.3107 - acc: 0.6505 - val_loss: 1.9882 - val_acc: 0.5512\n",
            "Epoch 13/15\n",
            "6700/6793 [============================>.] - ETA: 0s - loss: 1.2010 - acc: 0.6758\n",
            "Epoch 00013: val_acc did not improve from 0.58657\n",
            "6793/6793 [==============================] - 47s 7ms/sample - loss: 1.1989 - acc: 0.6766 - val_loss: 2.0418 - val_acc: 0.5789\n",
            "Epoch 14/15\n",
            "6700/6793 [============================>.] - ETA: 0s - loss: 1.0783 - acc: 0.7067\n",
            "Epoch 00014: val_acc improved from 0.58657 to 0.58716, saving model to model_cnn.hdf5\n",
            "6793/6793 [==============================] - 47s 7ms/sample - loss: 1.0752 - acc: 0.7084 - val_loss: 2.1730 - val_acc: 0.5872\n",
            "Epoch 15/15\n",
            "6700/6793 [============================>.] - ETA: 0s - loss: 0.9712 - acc: 0.7336\n",
            "Epoch 00015: val_acc did not improve from 0.58716\n",
            "6793/6793 [==============================] - 47s 7ms/sample - loss: 0.9719 - acc: 0.7333 - val_loss: 2.0122 - val_acc: 0.5671\n"
          ],
          "name": "stdout"
        }
      ]
    },
    {
      "cell_type": "code",
      "metadata": {
        "id": "XMMzgku6oQkm",
        "colab_type": "code",
        "colab": {
          "base_uri": "https://localhost:8080/",
          "height": 299
        },
        "outputId": "14dc8218-381e-4403-fa49-db260586a924"
      },
      "source": [
        "fig1 = plt.figure()\n",
        "plt.plot(history.history['loss'],'r',linewidth=3.0)\n",
        "plt.plot(history.history['val_loss'],'b',linewidth=3.0)\n",
        "plt.legend(['Training loss', 'Validation Loss'],fontsize=18)\n",
        "plt.xlabel('Epochs ',fontsize=16)\n",
        "plt.ylabel('Loss',fontsize=16)\n",
        "plt.title('Loss Curves :CNN',fontsize=16)\n",
        "fig1.savefig('loss_cnn.png')\n",
        "plt.show()"
      ],
      "execution_count": 83,
      "outputs": [
        {
          "output_type": "display_data",
          "data": {
            "image/png": "[encoded data removed]",
            "text/plain": [
              "<Figure size 432x288 with 1 Axes>"
            ]
          },
          "metadata": {
            "tags": [],
            "needs_background": "light"
          }
        }
      ]
    },
    {
      "cell_type": "code",
      "metadata": {
        "id": "y-fC28QuoQjZ",
        "colab_type": "code",
        "colab": {
          "base_uri": "https://localhost:8080/",
          "height": 299
        },
        "outputId": "6b07c8f2-6009-4765-f8d9-940e589a5eac"
      },
      "source": [
        "fig2=plt.figure()\n",
        "plt.plot(history.history['acc'],'r',linewidth=3.0)\n",
        "plt.plot(history.history['val_acc'],'b',linewidth=3.0)\n",
        "plt.legend(['Training Accuracy', 'Validation Accuracy'],fontsize=18)\n",
        "plt.xlabel('Epochs ',fontsize=16)\n",
        "plt.ylabel('Accuracy',fontsize=16)\n",
        "plt.title('Accuracy Curves : CNN',fontsize=16)\n",
        "fig2.savefig('accuracy_cnn.png')\n",
        "plt.show()"
      ],
      "execution_count": 84,
      "outputs": [
        {
          "output_type": "display_data",
          "data": {
            "image/png": "[encoded data removed]",
            "text/plain": [
              "<Figure size 432x288 with 1 Axes>"
            ]
          },
          "metadata": {
            "tags": [],
            "needs_background": "light"
          }
        }
      ]
    },
    {
      "cell_type": "markdown",
      "metadata": {
        "id": "7rVUX6bcN6Bu",
        "colab_type": "text"
      },
      "source": [
        "**Build model using RNN**"
      ]
    },
    {
      "cell_type": "code",
      "metadata": {
        "id": "yiCue1osoQgM",
        "colab_type": "code",
        "colab": {}
      },
      "source": [
        "embedding_layer_rnn = Embedding(len(word_index) + 1,\n",
        "                            EMBEDDING_DIM,\n",
        "                            weights=[embedding_matrix],\n",
        "                            input_length=MAX_SEQUENCE_LENGTH,\n",
        "                            trainable=True)"
      ],
      "execution_count": 0,
      "outputs": []
    },
    {
      "cell_type": "code",
      "metadata": {
        "id": "V5XFwBAooQdV",
        "colab_type": "code",
        "colab": {
          "base_uri": "https://localhost:8080/",
          "height": 306
        },
        "outputId": "f8a78dde-f817-4c30-a916-94df7752766e"
      },
      "source": [
        "sequence_input_rnn = Input(shape=(MAX_SEQUENCE_LENGTH,), dtype='int32')\n",
        "embedded_sequences_rnn = embedding_layer_rnn(sequence_input_rnn)\n",
        "l_lstm = Bidirectional(LSTM(128))(embedded_sequences_rnn)\n",
        "preds_rnn = Dense(len(macronum), activation='softmax')(l_lstm)\n",
        "model_rnn = Model(sequence_input_rnn, preds_rnn)\n",
        "model_rnn.compile(loss='categorical_crossentropy',\n",
        "              optimizer='rmsprop',\n",
        "              metrics=['acc'])\n",
        "\n",
        "print(\"Bidirectional LSTM\")\n",
        "model_rnn.summary()"
      ],
      "execution_count": 86,
      "outputs": [
        {
          "output_type": "stream",
          "text": [
            "Bidirectional LSTM\n",
            "Model: \"model_1\"\n",
            "_________________________________________________________________\n",
            "Layer (type)                 Output Shape              Param #   \n",
            "=================================================================\n",
            "input_3 (InputLayer)         [(None, 500)]             0         \n",
            "_________________________________________________________________\n",
            "embedding_2 (Embedding)      (None, 500, 100)          1900      \n",
            "_________________________________________________________________\n",
            "bidirectional (Bidirectional (None, 256)               234496    \n",
            "_________________________________________________________________\n",
            "dense_2 (Dense)              (None, 74)                19018     \n",
            "=================================================================\n",
            "Total params: 255,414\n",
            "Trainable params: 255,414\n",
            "Non-trainable params: 0\n",
            "_________________________________________________________________\n"
          ],
          "name": "stdout"
        }
      ]
    },
    {
      "cell_type": "code",
      "metadata": {
        "id": "NNZynp_loQZI",
        "colab_type": "code",
        "colab": {
          "base_uri": "https://localhost:8080/",
          "height": 1000
        },
        "outputId": "4c2fca9e-16aa-4aca-a598-bc4dae642fbb"
      },
      "source": [
        "cp_rnn=ModelCheckpoint('model_rnn.hdf5',monitor='val_acc',verbose=1,save_best_only=True)\n",
        "batch_size = 100\n",
        "epochs = 15\n",
        "history_rnn=model_rnn.fit(x_train, y_train, validation_data=(x_val, y_val),epochs=epochs, batch_size=batch_size,callbacks=[cp_rnn])"
      ],
      "execution_count": 88,
      "outputs": [
        {
          "output_type": "stream",
          "text": [
            "Train on 6793 samples, validate on 1698 samples\n",
            "Epoch 1/15\n",
            "6700/6793 [============================>.] - ETA: 3s - loss: 2.3702 - acc: 0.5034\n",
            "Epoch 00001: val_acc improved from -inf to 0.51119, saving model to model_rnn.hdf5\n",
            "6793/6793 [==============================] - 246s 36ms/sample - loss: 2.3743 - acc: 0.5030 - val_loss: 2.2201 - val_acc: 0.5112\n",
            "Epoch 2/15\n",
            "6700/6793 [============================>.] - ETA: 3s - loss: 2.1196 - acc: 0.5352\n",
            "Epoch 00002: val_acc improved from 0.51119 to 0.53475, saving model to model_rnn.hdf5\n",
            "6793/6793 [==============================] - 243s 36ms/sample - loss: 2.1184 - acc: 0.5353 - val_loss: 2.1473 - val_acc: 0.5347\n",
            "Epoch 3/15\n",
            "6700/6793 [============================>.] - ETA: 3s - loss: 2.0521 - acc: 0.5425\n",
            "Epoch 00003: val_acc improved from 0.53475 to 0.55065, saving model to model_rnn.hdf5\n",
            "6793/6793 [==============================] - 241s 36ms/sample - loss: 2.0537 - acc: 0.5425 - val_loss: 2.0268 - val_acc: 0.5506\n",
            "Epoch 4/15\n",
            "6700/6793 [============================>.] - ETA: 3s - loss: 1.9984 - acc: 0.5510\n",
            "Epoch 00004: val_acc did not improve from 0.55065\n",
            "6793/6793 [==============================] - 243s 36ms/sample - loss: 1.9993 - acc: 0.5504 - val_loss: 2.0185 - val_acc: 0.5453\n",
            "Epoch 5/15\n",
            "6700/6793 [============================>.] - ETA: 3s - loss: 1.9573 - acc: 0.5576\n",
            "Epoch 00005: val_acc improved from 0.55065 to 0.55948, saving model to model_rnn.hdf5\n",
            "6793/6793 [==============================] - 246s 36ms/sample - loss: 1.9544 - acc: 0.5585 - val_loss: 2.0155 - val_acc: 0.5595\n",
            "Epoch 6/15\n",
            "6700/6793 [============================>.] - ETA: 3s - loss: 1.9209 - acc: 0.5593\n",
            "Epoch 00006: val_acc did not improve from 0.55948\n",
            "6793/6793 [==============================] - 242s 36ms/sample - loss: 1.9226 - acc: 0.5588 - val_loss: 1.9563 - val_acc: 0.5571\n",
            "Epoch 7/15\n",
            "6700/6793 [============================>.] - ETA: 3s - loss: 1.8804 - acc: 0.5599\n",
            "Epoch 00007: val_acc improved from 0.55948 to 0.56478, saving model to model_rnn.hdf5\n",
            "6793/6793 [==============================] - 244s 36ms/sample - loss: 1.8805 - acc: 0.5595 - val_loss: 1.9382 - val_acc: 0.5648\n",
            "Epoch 8/15\n",
            "6700/6793 [============================>.] - ETA: 3s - loss: 1.8494 - acc: 0.5634\n",
            "Epoch 00008: val_acc did not improve from 0.56478\n",
            "6793/6793 [==============================] - 245s 36ms/sample - loss: 1.8437 - acc: 0.5650 - val_loss: 1.9673 - val_acc: 0.5612\n",
            "Epoch 9/15\n",
            "6700/6793 [============================>.] - ETA: 3s - loss: 1.8105 - acc: 0.5713\n",
            "Epoch 00009: val_acc improved from 0.56478 to 0.57303, saving model to model_rnn.hdf5\n",
            "6793/6793 [==============================] - 241s 35ms/sample - loss: 1.8084 - acc: 0.5722 - val_loss: 1.9314 - val_acc: 0.5730\n",
            "Epoch 10/15\n",
            "6700/6793 [============================>.] - ETA: 3s - loss: 1.7699 - acc: 0.5763\n",
            "Epoch 00010: val_acc did not improve from 0.57303\n",
            "6793/6793 [==============================] - 239s 35ms/sample - loss: 1.7680 - acc: 0.5760 - val_loss: 1.9229 - val_acc: 0.5660\n",
            "Epoch 11/15\n",
            "6700/6793 [============================>.] - ETA: 3s - loss: 1.7360 - acc: 0.5806\n",
            "Epoch 00011: val_acc did not improve from 0.57303\n",
            "6793/6793 [==============================] - 243s 36ms/sample - loss: 1.7398 - acc: 0.5797 - val_loss: 1.9087 - val_acc: 0.5701\n",
            "Epoch 12/15\n",
            "6700/6793 [============================>.] - ETA: 3s - loss: 1.7095 - acc: 0.5830\n",
            "Epoch 00012: val_acc improved from 0.57303 to 0.57362, saving model to model_rnn.hdf5\n",
            "6793/6793 [==============================] - 240s 35ms/sample - loss: 1.7100 - acc: 0.5828 - val_loss: 1.8892 - val_acc: 0.5736\n",
            "Epoch 13/15\n",
            "6700/6793 [============================>.] - ETA: 3s - loss: 1.6730 - acc: 0.5852\n",
            "Epoch 00013: val_acc improved from 0.57362 to 0.57892, saving model to model_rnn.hdf5\n",
            "6793/6793 [==============================] - 243s 36ms/sample - loss: 1.6734 - acc: 0.5852 - val_loss: 1.8593 - val_acc: 0.5789\n",
            "Epoch 14/15\n",
            "6700/6793 [============================>.] - ETA: 3s - loss: 1.6333 - acc: 0.5933\n",
            "Epoch 00014: val_acc did not improve from 0.57892\n",
            "6793/6793 [==============================] - 239s 35ms/sample - loss: 1.6353 - acc: 0.5927 - val_loss: 1.8722 - val_acc: 0.5783\n",
            "Epoch 15/15\n",
            "6700/6793 [============================>.] - ETA: 3s - loss: 1.6023 - acc: 0.5933\n",
            "Epoch 00015: val_acc did not improve from 0.57892\n",
            "6793/6793 [==============================] - 245s 36ms/sample - loss: 1.6040 - acc: 0.5924 - val_loss: 1.8957 - val_acc: 0.5707\n"
          ],
          "name": "stdout"
        }
      ]
    },
    {
      "cell_type": "code",
      "metadata": {
        "id": "DfpR9jfGQOt-",
        "colab_type": "code",
        "colab": {
          "base_uri": "https://localhost:8080/",
          "height": 422
        },
        "outputId": "424d0b8d-736e-4fee-8cf5-f1231f68280e"
      },
      "source": [
        "plot_model(model_rnn, to_file='/content/drive/My Drive/model_plot_rnn.png', show_shapes=True, show_layer_names=True)"
      ],
      "execution_count": 89,
      "outputs": [
        {
          "output_type": "execute_result",
          "data": {
            "image/png": "[encoded data removed]",
            "text/plain": [
              "<IPython.core.display.Image object>"
            ]
          },
          "metadata": {
            "tags": []
          },
          "execution_count": 89
        }
      ]
    },
    {
      "cell_type": "code",
      "metadata": {
        "id": "tiXa-pA6oQSn",
        "colab_type": "code",
        "colab": {
          "base_uri": "https://localhost:8080/",
          "height": 299
        },
        "outputId": "c298bb72-b6b6-40a4-f1ef-736cbecc4028"
      },
      "source": [
        "fig1 = plt.figure()\n",
        "plt.plot(history_rnn.history['loss'],'r',linewidth=3.0)\n",
        "plt.plot(history_rnn.history['val_loss'],'b',linewidth=3.0)\n",
        "plt.legend(['Training loss', 'Validation Loss'],fontsize=18)\n",
        "plt.xlabel('Epochs ',fontsize=16)\n",
        "plt.ylabel('Loss',fontsize=16)\n",
        "plt.title('Loss Curves :RNN',fontsize=16)\n",
        "fig1.savefig('loss_rnn.png')\n",
        "plt.show()"
      ],
      "execution_count": 90,
      "outputs": [
        {
          "output_type": "display_data",
          "data": {
            "image/png": "[encoded data removed]",
            "text/plain": [
              "<Figure size 432x288 with 1 Axes>"
            ]
          },
          "metadata": {
            "tags": [],
            "needs_background": "light"
          }
        }
      ]
    },
    {
      "cell_type": "code",
      "metadata": {
        "id": "Lrirhby6oQIP",
        "colab_type": "code",
        "colab": {
          "base_uri": "https://localhost:8080/",
          "height": 299
        },
        "outputId": "bdaa7cbc-11c1-43fb-9120-9f1073e0bfa4"
      },
      "source": [
        "fig2=plt.figure()\n",
        "plt.plot(history_rnn.history['acc'],'r',linewidth=3.0)\n",
        "plt.plot(history_rnn.history['val_acc'],'b',linewidth=3.0)\n",
        "plt.legend(['Training Accuracy', 'Validation Accuracy'],fontsize=18)\n",
        "plt.xlabel('Epochs ',fontsize=16)\n",
        "plt.ylabel('Accuracy',fontsize=16)\n",
        "plt.title('Accuracy Curves : RNN',fontsize=16)\n",
        "fig2.savefig('accuracy_rnn.png')\n",
        "plt.show()"
      ],
      "execution_count": 91,
      "outputs": [
        {
          "output_type": "display_data",
          "data": {
            "image/png": "[encoded data removed]",
            "text/plain": [
              "<Figure size 432x288 with 1 Axes>"
            ]
          },
          "metadata": {
            "tags": [],
            "needs_background": "light"
          }
        }
      ]
    },
    {
      "cell_type": "code",
      "metadata": {
        "id": "Yc28lHVJhsWT",
        "colab_type": "code",
        "colab": {}
      },
      "source": [
        ""
      ],
      "execution_count": 0,
      "outputs": []
    },
    {
      "cell_type": "code",
      "metadata": {
        "id": "vAj6Xf1ThsQB",
        "colab_type": "code",
        "colab": {}
      },
      "source": [
        ""
      ],
      "execution_count": 0,
      "outputs": []
    },
    {
      "cell_type": "code",
      "metadata": {
        "id": "TkgkErw8hpr3",
        "colab_type": "code",
        "colab": {}
      },
      "source": [
        ""
      ],
      "execution_count": 0,
      "outputs": []
    },
    {
      "cell_type": "code",
      "metadata": {
        "id": "E9BdgWhKhpmo",
        "colab_type": "code",
        "colab": {}
      },
      "source": [
        ""
      ],
      "execution_count": 0,
      "outputs": []
    },
    {
      "cell_type": "code",
      "metadata": {
        "id": "CW9mdXgvhphB",
        "colab_type": "code",
        "colab": {}
      },
      "source": [
        ""
      ],
      "execution_count": 0,
      "outputs": []
    },
    {
      "cell_type": "code",
      "metadata": {
        "id": "m2SlJsvEhpW7",
        "colab_type": "code",
        "colab": {}
      },
      "source": [
        ""
      ],
      "execution_count": 0,
      "outputs": []
    },
    {
      "cell_type": "code",
      "metadata": {
        "id": "730ajS2KMqLl",
        "colab_type": "code",
        "colab": {}
      },
      "source": [
        "df_final.describe()"
      ],
      "execution_count": 0,
      "outputs": []
    },
    {
      "cell_type": "code",
      "metadata": {
        "scrolled": true,
        "id": "aWywK5gRMqLo",
        "colab_type": "code",
        "colab": {}
      },
      "source": [
        "from nltk.probability import FreqDist\n",
        "text = str(df_final['Description'])\n",
        "fdist = FreqDist()\n",
        "for word in word_tokenize(text):\n",
        "    fdist[word.lower()] += 1\n",
        "fdist.most_common(50)\n",
        "\n",
        "fdist.plot(30)"
      ],
      "execution_count": 0,
      "outputs": []
    },
    {
      "cell_type": "code",
      "metadata": {
        "id": "xrZxVEhv3VY3",
        "colab_type": "code",
        "colab": {}
      },
      "source": [
        "def show_wordcloud(data, title = None):\n",
        "    wordcloud = WordCloud(\n",
        "        background_color='black',\n",
        "        stopwords=stop_words,\n",
        "        max_words=200,\n",
        "        max_font_size=40, \n",
        "        scale=3,\n",
        "        random_state=1 # chosen at random by flipping a coin; it was heads\n",
        ").generate(str(data))\n",
        "\n",
        "    fig = plt.figure(1, figsize=(15, 15))\n",
        "    plt.axis('off')\n",
        "    if title: \n",
        "        fig.suptitle(title, fontsize=20)\n",
        "        fig.subplots_adjust(top=2.3)\n",
        "\n",
        "    plt.imshow(wordcloud)\n",
        "    plt.show()"
      ],
      "execution_count": 0,
      "outputs": []
    },
    {
      "cell_type": "code",
      "metadata": {
        "id": "k0oFtgcK3XVP",
        "colab_type": "code",
        "colab": {}
      },
      "source": [
        "show_wordcloud(df_final[\"Description\"])"
      ],
      "execution_count": 0,
      "outputs": []
    },
    {
      "cell_type": "code",
      "metadata": {
        "id": "Wf3gc8vF6Hi6",
        "colab_type": "code",
        "colab": {}
      },
      "source": [
        "X = []\n",
        "sentences = list(df_final[\"Description\"])\n",
        "for sen in sentences:\n",
        "    X.append(sen)\n",
        "y=df_final['Target']"
      ],
      "execution_count": 0,
      "outputs": []
    },
    {
      "cell_type": "code",
      "metadata": {
        "id": "k4MPD6PCMqLr",
        "colab_type": "code",
        "colab": {}
      },
      "source": [
        "# Import label encoder \n",
        "from sklearn import preprocessing \n",
        "  \n",
        "# label_encoder object knows how to understand word labels. \n",
        "label_encoder = preprocessing.LabelEncoder() \n",
        "  \n",
        "# Encode labels in column 'Target'. \n",
        "y= label_encoder.fit_transform(y) "
      ],
      "execution_count": 0,
      "outputs": []
    },
    {
      "cell_type": "code",
      "metadata": {
        "id": "VhcsBwjS6qp7",
        "colab_type": "code",
        "colab": {}
      },
      "source": [
        "from keras.utils import to_categorical\n",
        "y = to_categorical(y)"
      ],
      "execution_count": 0,
      "outputs": []
    },
    {
      "cell_type": "code",
      "metadata": {
        "id": "5-TLOSxcTuPS",
        "colab_type": "code",
        "colab": {}
      },
      "source": [
        "maxlen = len(np.unique(df_final.Description.values))\n",
        "\n",
        "print(maxlen)"
      ],
      "execution_count": 0,
      "outputs": []
    },
    {
      "cell_type": "code",
      "metadata": {
        "id": "jnWJw5wFMqLt",
        "colab_type": "code",
        "colab": {}
      },
      "source": [
        "maxlen = 1266\n",
        "tokenizer = Tokenizer(num_words=maxlen,split=' ')\n",
        "tokenizer.fit_on_texts(X)\n",
        "X = tokenizer.texts_to_sequences(X)"
      ],
      "execution_count": 0,
      "outputs": []
    },
    {
      "cell_type": "code",
      "metadata": {
        "id": "X7LRpx4667Yg",
        "colab_type": "code",
        "colab": {}
      },
      "source": [
        "vocab_size = len(tokenizer.word_index) + 1\n",
        "maxlen = 200\n",
        "X = pad_sequences(X, padding='post', maxlen=maxlen)\n",
        "y= pad_sequences(y, padding='post', maxlen=maxlen)\n",
        "#X_test = pad_sequences(X_test, padding='post', maxlen=maxlen)\n"
      ],
      "execution_count": 0,
      "outputs": []
    },
    {
      "cell_type": "code",
      "metadata": {
        "id": "k916Du52IatQ",
        "colab_type": "code",
        "colab": {}
      },
      "source": [
        "#Splitting training and testing data\n",
        "X_train, X_test, y_train, y_test = train_test_split(X, y, test_size=0.20, random_state=42)"
      ],
      "execution_count": 0,
      "outputs": []
    },
    {
      "cell_type": "markdown",
      "metadata": {
        "id": "AMIhkSNWMqL0",
        "colab_type": "text"
      },
      "source": [
        " **Weight matrix using GloVe embeddings**"
      ]
    },
    {
      "cell_type": "code",
      "metadata": {
        "id": "-2L2tAla7Ecg",
        "colab_type": "code",
        "colab": {}
      },
      "source": [
        "glove_file = \"/content/drive/My Drive/glove.6B.zip\""
      ],
      "execution_count": 0,
      "outputs": []
    },
    {
      "cell_type": "code",
      "metadata": {
        "id": "0niTD4y37Piy",
        "colab_type": "code",
        "colab": {}
      },
      "source": [
        "#Extract Glove embedding zip file\n",
        "from zipfile import ZipFile\n",
        "with ZipFile(glove_file, 'r') as z:\n",
        "  z.extractall()"
      ],
      "execution_count": 0,
      "outputs": []
    },
    {
      "cell_type": "code",
      "metadata": {
        "id": "CyHt2HNoMqL0",
        "colab_type": "code",
        "colab": {}
      },
      "source": [
        "EMBEDDING_FILE = '/content/glove.6B.100d.txt'\n",
        "embeddings_dictionary = {}\n",
        "for o in open(EMBEDDING_FILE):\n",
        "    records = o.split()\n",
        "    word = records[0]\n",
        "    vector_dimensions = np.asarray(records[1:], dtype='float32')\n",
        "    embeddings_dictionary[word] = vector_dimensions\n",
        "\n",
        "print('Found %s word vectors.' % len(embeddings_dictionary))"
      ],
      "execution_count": 0,
      "outputs": []
    },
    {
      "cell_type": "code",
      "metadata": {
        "id": "hoKpfRzwMqL2",
        "colab_type": "code",
        "colab": {}
      },
      "source": [
        "embedding_matrix = np.zeros((vocab_size, 100))\n",
        "for word, index in tokenizer.word_index.items():\n",
        "    embedding_vector = embeddings_dictionary.get(word)\n",
        "    if embedding_vector is not None:\n",
        "        embedding_matrix[index] = embedding_vector\n",
        "#embedd_index['good']"
      ],
      "execution_count": 0,
      "outputs": []
    },
    {
      "cell_type": "code",
      "metadata": {
        "id": "o0XvVntE9w-y",
        "colab_type": "code",
        "colab": {}
      },
      "source": [
        "#importing libraries for model building\n",
        "from tensorflow.keras.preprocessing.text import Tokenizer\n",
        "from tensorflow.keras.preprocessing.sequence import pad_sequences\n",
        "from tensorflow.keras.layers import Dense, Input, LSTM, Embedding, Dropout, Activation, Flatten, Bidirectional, GlobalMaxPool1D\n",
        "from tensorflow.keras.models import Model, Sequential"
      ],
      "execution_count": 0,
      "outputs": []
    },
    {
      "cell_type": "code",
      "metadata": {
        "id": "ghPDezfk9GNj",
        "colab_type": "code",
        "colab": {}
      },
      "source": [
        "\n",
        "model = Sequential()\n",
        "model.add(Embedding(vocab_size, 100, weights = [embedding_matrix]))\n",
        "model.add(LSTM(64, return_sequences = True))\n",
        "model.add(Dense(40, activation=\"relu\"))\n",
        "model.add(Dropout(0.5))\n",
        "model.add(Dense(5, activation=\"relu\"))\n",
        "model.add(Dropout(0.5))\n",
        "model.add(Dense(1, activation=\"sigmoid\"))\n",
        "\n",
        "model.compile(loss='binary_crossentropy', optimizer='adam', metrics=['accuracy'])"
      ],
      "execution_count": 0,
      "outputs": []
    },
    {
      "cell_type": "code",
      "metadata": {
        "id": "EWw6rtN798Kf",
        "colab_type": "code",
        "colab": {}
      },
      "source": [
        "print(model.summary())"
      ],
      "execution_count": 0,
      "outputs": []
    },
    {
      "cell_type": "code",
      "metadata": {
        "id": "fhNSA72RmEoY",
        "colab_type": "code",
        "colab": {}
      },
      "source": [
        "print(model.summary())\n",
        "from tensorflow.keras.utils import plot_model\n",
        "plot_model(model, to_file='/content/drive/My Drive/model_plot1.png', show_shapes=True, show_layer_names=True)"
      ],
      "execution_count": 0,
      "outputs": []
    },
    {
      "cell_type": "code",
      "metadata": {
        "id": "hWpgwZJL-JXx",
        "colab_type": "code",
        "colab": {}
      },
      "source": [
        "print(model.summary())\n",
        "from tensorflow.keras.utils import plot_model\n",
        "plot_model(model, to_file='/content/drive/My Drive/model_plot1.png', show_shapes=True, show_layer_names=True)\n",
        "batch_size = 150\n",
        "epochs = 5\n",
        "history = model.fit(X_train,y_train,epochs=epochs,batch_size=batch_size,validation_split=0.2,verbose=1)#,validation_data=(X_test, y_test)"
      ],
      "execution_count": 0,
      "outputs": []
    },
    {
      "cell_type": "code",
      "metadata": {
        "id": "Lk-7ZQ1gj0Zi",
        "colab_type": "code",
        "colab": {}
      },
      "source": [
        "score = model.evaluate(X_test, y_test, verbose=1)\n",
        "print(\"Test Score:\", score[0])\n",
        "print(\"Test Accuracy:\", score[1])"
      ],
      "execution_count": 0,
      "outputs": []
    },
    {
      "cell_type": "code",
      "metadata": {
        "id": "El4oKX_Gj0Lj",
        "colab_type": "code",
        "colab": {}
      },
      "source": [
        "import matplotlib.pyplot as plt\n",
        "def plot_accuracy(history, miny=None):\n",
        "  acc = history.history['accuracy']\n",
        "  test_acc = history.history['val_accuracy']\n",
        "  epochs = range(len(acc))\n",
        "  plt.plot(epochs, acc)\n",
        "  plt.plot(epochs, test_acc)\n",
        "  if miny:\n",
        "    plt.ylim(miny, 1.0)\n",
        "  plt.title('model accuracy')\n",
        "  plt.ylabel('accuracy')\n",
        "  plt.xlabel('epoch')\n",
        "  plt.legend(['train','test'], loc='upper left')\n",
        "  plt.show()\n",
        "\n",
        "  lossacc=history.history['loss']\n",
        "  testloss=history.history['val_loss']\n",
        "  lossepochs=range(len(lossacc))\n",
        "  plt.plot(lossepochs,lossacc)\n",
        "  plt.plot(lossepochs,testloss)\n",
        "\n",
        "  plt.title('model loss')\n",
        "  plt.ylabel('loss')\n",
        "  plt.xlabel('epoch')\n",
        "  plt.legend(['train','test'], loc='upper left')\n",
        "  plt.show()\n",
        "  plt.figure()"
      ],
      "execution_count": 0,
      "outputs": []
    },
    {
      "cell_type": "code",
      "metadata": {
        "id": "0-j6c7LVlqua",
        "colab_type": "code",
        "colab": {}
      },
      "source": [
        "plot_accuracy(history)"
      ],
      "execution_count": 0,
      "outputs": []
    },
    {
      "cell_type": "code",
      "metadata": {
        "id": "fW9s2AlwHna6",
        "colab_type": "code",
        "colab": {}
      },
      "source": [
        ""
      ],
      "execution_count": 0,
      "outputs": []
    },
    {
      "cell_type": "code",
      "metadata": {
        "id": "F_2OlnJtWZN1",
        "colab_type": "code",
        "colab": {}
      },
      "source": [
        ""
      ],
      "execution_count": 0,
      "outputs": []
    },
    {
      "cell_type": "code",
      "metadata": {
        "id": "tCybG79oWZGW",
        "colab_type": "code",
        "colab": {}
      },
      "source": [
        "data = df_final"
      ],
      "execution_count": 0,
      "outputs": []
    },
    {
      "cell_type": "code",
      "metadata": {
        "id": "B4Bfhy6bWY-c",
        "colab_type": "code",
        "colab": {}
      },
      "source": [
        "data.head()"
      ],
      "execution_count": 0,
      "outputs": []
    },
    {
      "cell_type": "code",
      "metadata": {
        "id": "imYqkVvhWYsZ",
        "colab_type": "code",
        "colab": {}
      },
      "source": [
        "data['target'] = data.Target.astype('category').cat.codes"
      ],
      "execution_count": 0,
      "outputs": []
    },
    {
      "cell_type": "code",
      "metadata": {
        "id": "8evrGaDdWuak",
        "colab_type": "code",
        "colab": {}
      },
      "source": [
        "data['num_words'] = data.Description.apply(lambda x : len(x.split()))"
      ],
      "execution_count": 0,
      "outputs": []
    },
    {
      "cell_type": "code",
      "metadata": {
        "id": "Cs6yO6DnW7u8",
        "colab_type": "code",
        "colab": {}
      },
      "source": [
        "bins=[0,50,75, np.inf]\n",
        "data['bins']=pd.cut(data.num_words, bins=[0,100,300,500,800, np.inf], labels=['0-100', '100-300', '300-500','500-800' ,'>800'])"
      ],
      "execution_count": 0,
      "outputs": []
    },
    {
      "cell_type": "code",
      "metadata": {
        "id": "EuexRylBXBB8",
        "colab_type": "code",
        "colab": {}
      },
      "source": [
        "word_distribution = data.groupby('bins').size().reset_index().rename(columns={0:'counts'})"
      ],
      "execution_count": 0,
      "outputs": []
    },
    {
      "cell_type": "code",
      "metadata": {
        "id": "uxzrn6ANXDge",
        "colab_type": "code",
        "colab": {}
      },
      "source": [
        "word_distribution.head()"
      ],
      "execution_count": 0,
      "outputs": []
    },
    {
      "cell_type": "code",
      "metadata": {
        "id": "9wAh23cCXLNL",
        "colab_type": "code",
        "colab": {}
      },
      "source": [
        "sns.barplot(x='bins', y='counts', data=word_distribution).set_title(\"Word distribution per bin\")"
      ],
      "execution_count": 0,
      "outputs": []
    },
    {
      "cell_type": "code",
      "metadata": {
        "id": "jEsrRVIBH7pk",
        "colab_type": "code",
        "colab": {}
      },
      "source": [
        "num_class = len(np.unique(data.Target.values))\n",
        "y = data['target'].values"
      ],
      "execution_count": 0,
      "outputs": []
    },
    {
      "cell_type": "code",
      "metadata": {
        "id": "tO2gfylGXrp7",
        "colab_type": "code",
        "colab": {}
      },
      "source": [
        "from sklearn.feature_extraction.text import CountVectorizer, TfidfTransformer\n",
        "from nltk.stem import WordNetLemmatizer\n",
        "from nltk.sentiment.vader import SentimentIntensityAnalyzer\n",
        "from nltk.sentiment.util import *\n",
        "from nltk import tokenize"
      ],
      "execution_count": 0,
      "outputs": []
    },
    {
      "cell_type": "code",
      "metadata": {
        "id": "Cx4G2ucMXro9",
        "colab_type": "code",
        "colab": {}
      },
      "source": [
        "data['Description'] = data['Description'].astype(str)"
      ],
      "execution_count": 0,
      "outputs": []
    },
    {
      "cell_type": "code",
      "metadata": {
        "id": "IkGGEbqFaKhE",
        "colab_type": "code",
        "colab": {}
      },
      "source": [
        "def unique_list(l):\n",
        "    ulist = []\n",
        "    [ulist.append(x) for x in l if x not in ulist]\n",
        "    return ulist"
      ],
      "execution_count": 0,
      "outputs": []
    },
    {
      "cell_type": "code",
      "metadata": {
        "id": "gv7_V78SaKT2",
        "colab_type": "code",
        "colab": {}
      },
      "source": [
        ""
      ],
      "execution_count": 0,
      "outputs": []
    },
    {
      "cell_type": "code",
      "metadata": {
        "id": "XJL8Ef3nZWoc",
        "colab_type": "code",
        "colab": {}
      },
      "source": [
        "data['Description']=data['Description'].apply(lambda x: ' '.join(unique_list(x.split())))"
      ],
      "execution_count": 0,
      "outputs": []
    },
    {
      "cell_type": "code",
      "metadata": {
        "id": "oO2WO1_-ZXGL",
        "colab_type": "code",
        "colab": {}
      },
      "source": [
        ""
      ],
      "execution_count": 0,
      "outputs": []
    },
    {
      "cell_type": "code",
      "metadata": {
        "id": "rXW_ESslXrYl",
        "colab_type": "code",
        "colab": {}
      },
      "source": [
        "data_description = data.Description.values"
      ],
      "execution_count": 0,
      "outputs": []
    },
    {
      "cell_type": "code",
      "metadata": {
        "id": "2zUiBwQqX07I",
        "colab_type": "code",
        "colab": {}
      },
      "source": [
        "count_vec = CountVectorizer(stop_words=\"english\", analyzer='word', \n",
        "                            ngram_range=(1, 1), max_df=1, min_df=1, max_features=None)\n",
        "\n",
        "# convert text data into term-frequency matrix\n",
        "data_description = count_vec.fit_transform(data_description)\n",
        "\n",
        "\n",
        "\n",
        "\n",
        "tfidf_transformer = TfidfTransformer()\n",
        "\n",
        "# convert term-frequency matrix into tf-idf\n",
        "tfidf_matrix = tfidf_transformer.fit_transform(data_description)\n",
        "\n",
        "# create dictionary to find a tfidf word each word\n",
        "word2tfidf = dict(zip(count_vec.get_feature_names(), tfidf_transformer.idf_))\n",
        "\n",
        "for word, score in word2tfidf.items():\n",
        "    print(word, score)"
      ],
      "execution_count": 0,
      "outputs": []
    },
    {
      "cell_type": "code",
      "metadata": {
        "id": "gtvaJct1X04J",
        "colab_type": "code",
        "colab": {}
      },
      "source": [
        ""
      ],
      "execution_count": 0,
      "outputs": []
    },
    {
      "cell_type": "code",
      "metadata": {
        "id": "uRE3yHHjX024",
        "colab_type": "code",
        "colab": {}
      },
      "source": [
        ""
      ],
      "execution_count": 0,
      "outputs": []
    },
    {
      "cell_type": "code",
      "metadata": {
        "id": "_jdV1hRmX0z_",
        "colab_type": "code",
        "colab": {}
      },
      "source": [
        ""
      ],
      "execution_count": 0,
      "outputs": []
    },
    {
      "cell_type": "code",
      "metadata": {
        "id": "l0ZRarxCX0sw",
        "colab_type": "code",
        "colab": {}
      },
      "source": [
        ""
      ],
      "execution_count": 0,
      "outputs": []
    },
    {
      "cell_type": "code",
      "metadata": {
        "id": "mmvwSA-VX0pj",
        "colab_type": "code",
        "colab": {}
      },
      "source": [
        ""
      ],
      "execution_count": 0,
      "outputs": []
    },
    {
      "cell_type": "code",
      "metadata": {
        "id": "R8HRIV_PX0l2",
        "colab_type": "code",
        "colab": {}
      },
      "source": [
        ""
      ],
      "execution_count": 0,
      "outputs": []
    },
    {
      "cell_type": "code",
      "metadata": {
        "id": "FsjVgUFjX0f5",
        "colab_type": "code",
        "colab": {}
      },
      "source": [
        ""
      ],
      "execution_count": 0,
      "outputs": []
    },
    {
      "cell_type": "code",
      "metadata": {
        "id": "ZFfTh4vWX0Wk",
        "colab_type": "code",
        "colab": {}
      },
      "source": [
        ""
      ],
      "execution_count": 0,
      "outputs": []
    },
    {
      "cell_type": "code",
      "metadata": {
        "id": "MsplXhVgJr7z",
        "colab_type": "code",
        "colab": {}
      },
      "source": [
        "term_frequency = count_vec.vocabulary_\n",
        "type(term_frequency)"
      ],
      "execution_count": 0,
      "outputs": []
    },
    {
      "cell_type": "code",
      "metadata": {
        "id": "Vplr5VfkYFUm",
        "colab_type": "code",
        "colab": {}
      },
      "source": [
        "sorted_by_idf = np.argsort(tfidf_transformer.idf_)\n",
        "feature_names = np.array(count_vec.get_feature_names())\n",
        "print(\"Features with lowest idf:\\n{}\".format(\n",
        "       feature_names[sorted_by_idf[:10]]))\n",
        "print(\"\\nFeatures with highest idf:\\n{}\".format(\n",
        "       feature_names[sorted_by_idf[-10:]]))"
      ],
      "execution_count": 0,
      "outputs": []
    },
    {
      "cell_type": "code",
      "metadata": {
        "id": "lDgb-_xVYHUk",
        "colab_type": "code",
        "colab": {}
      },
      "source": [
        "count = nltk.FreqDist(data.Description.values)\n",
        "count.plot(30)"
      ],
      "execution_count": 0,
      "outputs": []
    },
    {
      "cell_type": "code",
      "metadata": {
        "id": "zXlKNISUYOVp",
        "colab_type": "code",
        "colab": {}
      },
      "source": [
        "final_doc = data['Description']\n",
        "all_documents = tuple(final_doc)"
      ],
      "execution_count": 0,
      "outputs": []
    },
    {
      "cell_type": "code",
      "metadata": {
        "id": "AL1Mx7uea_2V",
        "colab_type": "code",
        "colab": {}
      },
      "source": [
        "from sklearn.feature_extraction.text import TfidfVectorizer\n",
        "tfidf_vectorizer = TfidfVectorizer()\n",
        "tfidf_matrix = tfidf_vectorizer.fit_transform(all_documents)\n",
        "print (tfidf_matrix.shape)\n",
        "print(tfidf_matrix)"
      ],
      "execution_count": 0,
      "outputs": []
    },
    {
      "cell_type": "code",
      "metadata": {
        "id": "FfrvGJvbbCOk",
        "colab_type": "code",
        "colab": {}
      },
      "source": [
        "\n",
        "data_text = data[['Description']]\n",
        "data_text['index'] = data_text.index\n",
        "documents=data_text\n",
        "\n",
        "\n",
        "print(len(documents))\n",
        "print(documents[:5])\n",
        "\n",
        "import gensim\n",
        "from gensim.utils import simple_preprocess\n",
        "from gensim.parsing.preprocessing import STOPWORDS\n",
        "from nltk.stem import WordNetLemmatizer, SnowballStemmer\n",
        "from nltk.stem.porter import *\n",
        "import numpy as np\n",
        "np.random.seed(2018)\n",
        "import nltk\n",
        "\n",
        "\n",
        "def lemmatize_stemming(text):\n",
        "    return stemmer.stem(WordNetLemmatizer().lemmatize(text, pos='v'))\n",
        "def preprocess(text):\n",
        "    result = []\n",
        "    for token in gensim.utils.simple_preprocess(text):\n",
        "        if token not in gensim.parsing.preprocessing.STOPWORDS and len(token) > 3:\n",
        "            result.append(lemmatize_stemming(token))\n",
        "    return result"
      ],
      "execution_count": 0,
      "outputs": []
    },
    {
      "cell_type": "code",
      "metadata": {
        "id": "cX1nyB2RbKZq",
        "colab_type": "code",
        "colab": {}
      },
      "source": [
        "from nltk.stem.porter import *\n",
        "stemmer = PorterStemmer()\n",
        "stemmer.stem('identified')\n",
        "\n",
        "\n",
        "doc_sample = documents[documents['index'] == 5].values[0][0]\n",
        "print('original document: ')\n",
        "words = []\n",
        "for word in doc_sample.split(' '):\n",
        "    words.append(word)\n",
        "print(words)\n",
        "print('\\n\\n tokenized and lemmatized document: ')\n",
        "print(preprocess(doc_sample))\n",
        "\n",
        "\n",
        "processed_docs = documents['Description'].map(preprocess)\n",
        "processed_docs[:5]"
      ],
      "execution_count": 0,
      "outputs": []
    },
    {
      "cell_type": "code",
      "metadata": {
        "id": "SdtgwkGKbTP0",
        "colab_type": "code",
        "colab": {}
      },
      "source": [
        "dictionary = gensim.corpora.Dictionary(processed_docs)\n",
        "count = 0\n",
        "for k, v in dictionary.iteritems():\n",
        "    print(k, v)\n",
        "    count += 1\n",
        "    if count > 10:\n",
        "        break"
      ],
      "execution_count": 0,
      "outputs": []
    },
    {
      "cell_type": "code",
      "metadata": {
        "id": "ip2tJBsSbdaI",
        "colab_type": "code",
        "colab": {}
      },
      "source": [
        "dictionary.filter_extremes(no_below=15, no_above=0.5, keep_n=100000)\n",
        "\n",
        "bow_corpus = [dictionary.doc2bow(doc) for doc in processed_docs]\n",
        "bow_corpus[123]"
      ],
      "execution_count": 0,
      "outputs": []
    },
    {
      "cell_type": "code",
      "metadata": {
        "id": "DuAftbKCbhKZ",
        "colab_type": "code",
        "colab": {}
      },
      "source": [
        "bow_doc_123 = bow_corpus[123]\n",
        "for i in range(len(bow_doc_123)):\n",
        "    print(\"Word {} (\\\"{}\\\") appears {} time.\".format(bow_doc_123[i][0], \n",
        "                                               dictionary[bow_doc_123[i][0]], \n",
        "bow_doc_123[i][1]))"
      ],
      "execution_count": 0,
      "outputs": []
    },
    {
      "cell_type": "code",
      "metadata": {
        "id": "HGFp86hPbkTJ",
        "colab_type": "code",
        "colab": {}
      },
      "source": [
        "#TF-IDF\n",
        "from gensim import corpora, models\n",
        "tfidf = models.TfidfModel(bow_corpus)\n",
        "corpus_tfidf = tfidf[bow_corpus]\n",
        "from pprint import pprint\n",
        "for doc in corpus_tfidf:\n",
        "    pprint(doc)\n",
        "    break"
      ],
      "execution_count": 0,
      "outputs": []
    },
    {
      "cell_type": "code",
      "metadata": {
        "id": "RY9MdBiIboEU",
        "colab_type": "code",
        "colab": {}
      },
      "source": [
        "lda_model = gensim.models.LdaMulticore(bow_corpus, num_topics=5, id2word=dictionary, passes=2, workers=2)"
      ],
      "execution_count": 0,
      "outputs": []
    },
    {
      "cell_type": "code",
      "metadata": {
        "id": "7bJgf8Xubu1E",
        "colab_type": "code",
        "colab": {}
      },
      "source": [
        "# Print the results\n",
        "import pickle\n",
        "\n",
        "# Here we can assign topic names to each topic list, you can specify the number of words you want to have shown (e.g num_words = 5)\n",
        "result = lda_model.print_topics(num_topics=5, num_words=5)\n",
        "print(result)\n",
        "\n",
        "for idx, topic in lda_model.print_topics(-1):\n",
        "    print('Topic: {} \\nWords: {}'.format(idx, topic))"
      ],
      "execution_count": 0,
      "outputs": []
    },
    {
      "cell_type": "code",
      "metadata": {
        "id": "8KQgymSAb0MJ",
        "colab_type": "code",
        "colab": {}
      },
      "source": [
        "# put these in a file and name the topics\n",
        "with open(\"lda_topics_result.txt\", \"w\") as f:\n",
        "    for s in result:\n",
        "        f.write(str(s) +\"\\n\")"
      ],
      "execution_count": 0,
      "outputs": []
    },
    {
      "cell_type": "code",
      "metadata": {
        "id": "nilEsnlEchgx",
        "colab_type": "code",
        "colab": {}
      },
      "source": [
        "pip install pyLDAvis"
      ],
      "execution_count": 0,
      "outputs": []
    },
    {
      "cell_type": "code",
      "metadata": {
        "id": "jWZzuTmgb4PJ",
        "colab_type": "code",
        "colab": {}
      },
      "source": [
        "# Visualize\n",
        "import pyLDAvis.gensim\n",
        "\n",
        "lda_display = pyLDAvis.gensim.prepare(lda_model, bow_corpus,dictionary, sort_topics=True)\n",
        "pyLDAvis.display(lda_display)"
      ],
      "execution_count": 0,
      "outputs": []
    },
    {
      "cell_type": "code",
      "metadata": {
        "id": "P04_pdfbb665",
        "colab_type": "code",
        "colab": {}
      },
      "source": [
        "MAX_LENGTH = 500\n",
        "tokenizer = Tokenizer()\n",
        "tokenizer.fit_on_texts(data.Description.values)\n",
        "post_seq = tokenizer.texts_to_sequences(data.Description.values)\n",
        "post_seq_padded = pad_sequences(post_seq, maxlen=MAX_LENGTH)"
      ],
      "execution_count": 0,
      "outputs": []
    },
    {
      "cell_type": "code",
      "metadata": {
        "id": "sOF8Q1P9dAe7",
        "colab_type": "code",
        "colab": {}
      },
      "source": [
        "X_train, X_test, y_train, y_test = train_test_split(post_seq_padded, y, test_size=0.05,random_state=42)"
      ],
      "execution_count": 0,
      "outputs": []
    },
    {
      "cell_type": "code",
      "metadata": {
        "id": "Uwon1L1udCdo",
        "colab_type": "code",
        "colab": {}
      },
      "source": [
        "vocab_size = len(tokenizer.word_index) + 1"
      ],
      "execution_count": 0,
      "outputs": []
    },
    {
      "cell_type": "code",
      "metadata": {
        "id": "lfyLNQlsdD_k",
        "colab_type": "code",
        "colab": {}
      },
      "source": [
        "inputs = Input(shape=(MAX_LENGTH, ))\n",
        "embedding_layer = Embedding(vocab_size,\n",
        "                            128,\n",
        "                            input_length=MAX_LENGTH)(inputs)\n",
        "x = Flatten()(embedding_layer)\n",
        "x = Dense(32, activation='relu')(x)\n",
        "\n",
        "predictions = Dense(num_class, activation='softmax')(x)\n",
        "model = Model(inputs=[inputs], outputs=predictions)\n",
        "model.compile(optimizer='adam',\n",
        "              loss='categorical_crossentropy',\n",
        "              metrics=['acc'])\n",
        "\n",
        "model.summary()\n",
        "#filepath=\"weights-simple.hdf5\"\n",
        "#checkpointer = ModelCheckpoint(filepath, monitor='val_acc', verbose=1, save_best_only=True, mode='max')\n",
        "history = model.fit([X_train], batch_size=64, y=to_categorical(y_train), verbose=1, validation_split=0.20, \n",
        "          shuffle=True, epochs=10)"
      ],
      "execution_count": 0,
      "outputs": []
    },
    {
      "cell_type": "code",
      "metadata": {
        "id": "gK6Yk-bbdGED",
        "colab_type": "code",
        "colab": {}
      },
      "source": [
        "df = pd.DataFrame({'epochs':history.epoch, 'accuracy': history.history['acc'], 'validation_accuracy': history.history['val_acc']})\n",
        "g = sns.pointplot(x=\"epochs\", y=\"accuracy\", data=df, fit_reg=False)\n",
        "g = sns.pointplot(x=\"epochs\", y=\"validation_accuracy\", data=df, fit_reg=False, color='green')"
      ],
      "execution_count": 0,
      "outputs": []
    },
    {
      "cell_type": "code",
      "metadata": {
        "id": "eeAi2H9MdknG",
        "colab_type": "code",
        "colab": {}
      },
      "source": [
        "predicted = model.predict(X_test)\n",
        "predicted = np.argmax(predicted, axis=1)\n",
        "accuracy_score(y_test, predicted)"
      ],
      "execution_count": 0,
      "outputs": []
    },
    {
      "cell_type": "code",
      "metadata": {
        "id": "wZzuvcjuenus",
        "colab_type": "code",
        "colab": {}
      },
      "source": [
        "import itertools\n",
        "# This utility function is from the sklearn docs: http://scikit-learn.org/stable/auto_examples/model_selection/plot_confusion_matrix.html\n",
        "def plot_confusion_matrix(cm, classes,\n",
        "                          title='Confusion matrix',\n",
        "                          cmap=plt.cm.Blues):\n",
        "    \"\"\"\n",
        "    This function prints and plots the confusion matrix.\n",
        "    Normalization can be applied by setting `normalize=True`.\n",
        "    \"\"\"\n",
        "\n",
        "    cm = cm.astype('float') / cm.sum(axis=1)[:, np.newaxis]\n",
        "\n",
        "    plt.imshow(cm, interpolation='nearest', cmap=cmap)\n",
        "    plt.title(title, fontsize=30)\n",
        "    plt.colorbar()\n",
        "    tick_marks = np.arange(len(classes))\n",
        "    plt.xticks(tick_marks, classes, rotation=45, fontsize=22)\n",
        "    plt.yticks(tick_marks, classes, fontsize=22)\n",
        "\n",
        "    fmt = '.2f'\n",
        "    thresh = cm.max() / 2.\n",
        "    for i, j in itertools.product(range(cm.shape[0]), range(cm.shape[1])):\n",
        "        plt.text(j, i, format(cm[i, j], fmt),\n",
        "                 horizontalalignment=\"center\",\n",
        "                 color=\"white\" if cm[i, j] > thresh else \"black\")\n",
        "\n",
        "    plt.ylabel('True label', fontsize=5)\n",
        "    plt.xlabel('Predicted label', fontsize=5)"
      ],
      "execution_count": 0,
      "outputs": []
    },
    {
      "cell_type": "code",
      "metadata": {
        "id": "jgxV9NMmgPKl",
        "colab_type": "code",
        "colab": {}
      },
      "source": [
        "data.head()"
      ],
      "execution_count": 0,
      "outputs": []
    },
    {
      "cell_type": "code",
      "metadata": {
        "id": "kiRlJH4pdrrZ",
        "colab_type": "code",
        "colab": {}
      },
      "source": [
        "# Use sklearn utility to convert label strings to numbered index\n",
        "encoder = LabelEncoder()\n",
        "encoder.fit(data.Target.values)\n",
        "text_labels = encoder.classes_ \n",
        "cnf_matrix = confusion_matrix(y_test, predicted)\n",
        "plt.figure(figsize=(50,50))\n",
        "plot_confusion_matrix(cnf_matrix, classes=text_labels, title=\"Confusion matrix\")\n",
        "plt.show()"
      ],
      "execution_count": 0,
      "outputs": []
    },
    {
      "cell_type": "code",
      "metadata": {
        "id": "gxgQ2DIKduh5",
        "colab_type": "code",
        "colab": {}
      },
      "source": [
        "inputs = Input(shape=(MAX_LENGTH, ))\n",
        "embedding_layer = Embedding(vocab_size,\n",
        "                            128,\n",
        "                            input_length=MAX_LENGTH)(inputs)\n",
        "\n",
        "x = LSTM(64)(embedding_layer)\n",
        "x = Dense(32, activation='relu')(x)\n",
        "predictions = Dense(num_class, activation='softmax')(x)\n",
        "model_lstm = Model(inputs=[inputs], outputs=predictions)\n",
        "model_lstm.compile(optimizer='adam',\n",
        "              loss='categorical_crossentropy',\n",
        "              metrics=['acc'])\n",
        "\n",
        "model_lstm.summary()"
      ],
      "execution_count": 0,
      "outputs": []
    },
    {
      "cell_type": "code",
      "metadata": {
        "id": "GxJ94D0zhKcy",
        "colab_type": "code",
        "colab": {}
      },
      "source": [
        "history = model_lstm.fit([X_train], batch_size=64, y=to_categorical(y_train), verbose=1, validation_split=0.20, \n",
        "          shuffle=True, epochs=20)"
      ],
      "execution_count": 0,
      "outputs": []
    },
    {
      "cell_type": "code",
      "metadata": {
        "id": "-H9aQVKuoesL",
        "colab_type": "code",
        "colab": {}
      },
      "source": [
        "predicted = model.predict(X_test)\n",
        "predicted = np.argmax(predicted, axis=1)\n",
        "accuracy_score(y_test, predicted)"
      ],
      "execution_count": 0,
      "outputs": []
    },
    {
      "cell_type": "code",
      "metadata": {
        "id": "vl8FbYLWhQTY",
        "colab_type": "code",
        "colab": {}
      },
      "source": [
        "encoder = LabelEncoder()\n",
        "encoder.fit(data.Target.values)\n",
        "text_labels = encoder.classes_ \n",
        "cnf_matrix = confusion_matrix(y_test, predicted)\n",
        "plt.figure(figsize=(60,60))\n",
        "plot_confusion_matrix(cnf_matrix, classes=text_labels, title=\"Confusion matrix\")\n",
        "plt.show()"
      ],
      "execution_count": 0,
      "outputs": []
    },
    {
      "cell_type": "code",
      "metadata": {
        "id": "Cg2zx3DAn1NU",
        "colab_type": "code",
        "colab": {}
      },
      "source": [
        ""
      ],
      "execution_count": 0,
      "outputs": []
    }
  ]
}